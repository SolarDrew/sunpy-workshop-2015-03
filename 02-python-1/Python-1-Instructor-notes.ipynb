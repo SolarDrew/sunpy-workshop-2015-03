{
 "cells": [
  {
   "cell_type": "markdown",
   "metadata": {},
   "source": [
    "# Python 1 - Introduction to Python\n",
    "\n",
    "## Objectives\n",
    "\n",
    "By the end of this first session you should be able to do the following using Python.\n",
    "\n",
    "* Have become accustomed to IPython notebook\n",
    "* Print all the things\n",
    "* Use Basic Operations\n",
    "* Use string formatting\n",
    "* Utilise lists and dictionaries\n",
    "* Be able to iterate over said lists\n",
    "\n",
    "## IPython Notebook\n",
    "\n",
    "IPython notebook is a web based interactive computational environment with code, text, mathematics, plot and exectution all in the same place. Its how we'll be doing the whole course, though we wouldn't use it for more script based programming, for that we suggest you use [Spyder](https://pythonhosted.org/spyder/) or your pet text editor.\n",
    "\n",
    "Some IPython notebook commands to help you through this:\n",
    "\n",
    "* crtl + enter - Run Cell\n",
    "* B - insert cell below when the whole cell is selected\n",
    "* esc - moves from the 'text box' to select the cell\n",
    "* enter - moves you back in\n",
    "\n",
    "## Basic Operations\n",
    "\n",
    "A great deal of the operations in Python are simply tranferable from other languages. But lets go over them anyway.\n",
    "\n",
    "### Printing\n",
    "\n",
    "Print is not a function in Python 2, so literally a print and what you want to print will do in most cases."
   ]
  },
  {
   "cell_type": "code",
   "execution_count": null,
   "metadata": {
    "collapsed": false
   },
   "outputs": [],
   "source": [
    "a = 5\n",
    "b = 7\n",
    "print a + b, a - b\n",
    "print a*b, a/b\n",
    "print a**b"
   ]
  },
  {
   "cell_type": "markdown",
   "metadata": {},
   "source": [
    "Notice that `a/b` doesn't work. The ususal rules with dividing variable types apply. In order to make it work properly you need to make `a` a float "
   ]
  },
  {
   "cell_type": "code",
   "execution_count": null,
   "metadata": {
    "collapsed": false
   },
   "outputs": [],
   "source": [
    "A = float(a)\n",
    "print A/b"
   ]
  },
  {
   "cell_type": "markdown",
   "metadata": {},
   "source": [
    "We have a few other variable types too. \n",
    "* Integer\n",
    "* Complex \n",
    "* String."
   ]
  },
  {
   "cell_type": "code",
   "execution_count": null,
   "metadata": {
    "collapsed": false
   },
   "outputs": [],
   "source": [
    "print type(a)\n",
    "print type(A)\n",
    "c = complex(a,b)\n",
    "print c\n",
    "print type(c)"
   ]
  },
  {
   "cell_type": "markdown",
   "metadata": {},
   "source": [
    "### Challenge 1\n",
    "Catch up to this point and write a line of code converting a temperature in Fahrenheit to Celcius."
   ]
  },
  {
   "cell_type": "code",
   "execution_count": null,
   "metadata": {
    "collapsed": false
   },
   "outputs": [],
   "source": [
    "F = 45.0\n",
    "C = (F - 32.0)*(5.0/9.0)\n",
    "print C"
   ]
  },
  {
   "cell_type": "markdown",
   "metadata": {},
   "source": [
    "Strings in quote marks e.g. `\"helloworld\"`. You can also add strings together."
   ]
  },
  {
   "cell_type": "code",
   "execution_count": null,
   "metadata": {
    "collapsed": false
   },
   "outputs": [],
   "source": [
    "d = \"Hello\"\n",
    "e = \"World\"\n",
    "print d + e"
   ]
  },
  {
   "cell_type": "markdown",
   "metadata": {},
   "source": [
    "You can also use some shiny formatting tricks with .format()"
   ]
  },
  {
   "cell_type": "code",
   "execution_count": null,
   "metadata": {
    "collapsed": false
   },
   "outputs": [],
   "source": [
    "print \"{0} {1}, its {2}, time for some tea.\".format(d,e,1500)"
   ]
  },
  {
   "cell_type": "markdown",
   "metadata": {},
   "source": [
    "###Challenge 2\n",
    "Use the previous example of temperature converting and use formatting to produce me some sexy output."
   ]
  },
  {
   "cell_type": "code",
   "execution_count": null,
   "metadata": {
    "collapsed": false
   },
   "outputs": [],
   "source": [
    "print \"It's the UK, so the temperature is a rubbish {0} or {1} in real units\".format(F,C)"
   ]
  },
  {
   "cell_type": "markdown",
   "metadata": {},
   "source": [
    "###Comments\n",
    "As a side, commenting out uses `#` and you can block comment a la"
   ]
  },
  {
   "cell_type": "code",
   "execution_count": null,
   "metadata": {
    "collapsed": false
   },
   "outputs": [],
   "source": [
    "# Nobody expects the Spanish Inquisition!\n",
    "\n",
    "\"\"\"\n",
    "Our chief weapon is surprise...\n",
    "surprise and fear...fear and surprise.\n",
    "Our two weapons are fear and surprise...and ruthless efficiency.\n",
    "Our three weapons are...\n",
    "\"\"\""
   ]
  },
  {
   "cell_type": "markdown",
   "metadata": {},
   "source": [
    "##Lists\n",
    "Lists are an immensely powerful part of the Python toolbox. \n",
    "A list can be of anything, strings, float, complex etc. Lists are iterable objects. Denoted by square brackets, empty lists can be denoted by `alist = []`. Python begins lists with element 0, so `alist[0]` gives you the first element. "
   ]
  },
  {
   "cell_type": "code",
   "execution_count": null,
   "metadata": {
    "collapsed": false
   },
   "outputs": [],
   "source": [
    "alist = [1,2,3,4,5]\n",
    "print alist"
   ]
  },
  {
   "cell_type": "markdown",
   "metadata": {},
   "source": [
    "You can also list-ise a string so we can turn `hello world` into a list containing the indivisual letters within it"
   ]
  },
  {
   "cell_type": "code",
   "execution_count": null,
   "metadata": {
    "collapsed": false
   },
   "outputs": [],
   "source": [
    "thelist = list(\"helloworld\")\n",
    "print thelist"
   ]
  },
  {
   "cell_type": "markdown",
   "metadata": {},
   "source": [
    "Then we can use append to stick some more stuff on the end. And we can find the first instance of something with index."
   ]
  },
  {
   "cell_type": "code",
   "execution_count": null,
   "metadata": {
    "collapsed": false
   },
   "outputs": [],
   "source": [
    "alist.append(6)\n",
    "print alist\n",
    "print alist.index(6)"
   ]
  },
  {
   "cell_type": "markdown",
   "metadata": {},
   "source": [
    "We can also sort our lists using sort()"
   ]
  },
  {
   "cell_type": "code",
   "execution_count": null,
   "metadata": {
    "collapsed": false
   },
   "outputs": [],
   "source": [
    "anotherlist = ([6,2,5,2,7,1,3,5,4])\n",
    "anotherlist.sort()\n",
    "print anotherlist\n",
    "print anotherlist[-1]"
   ]
  },
  {
   "cell_type": "markdown",
   "metadata": {},
   "source": [
    "We can also make lists of lists, extremely useful when we start processing and holding lots of data."
   ]
  },
  {
   "cell_type": "code",
   "execution_count": null,
   "metadata": {
    "collapsed": false
   },
   "outputs": [],
   "source": [
    "lista = [2,5,3]\n",
    "listb = [5,2,9]\n",
    "listc = [4,6,1]\n",
    "list_total = [lista, listb, listc]\n",
    "print list_total"
   ]
  },
  {
   "cell_type": "markdown",
   "metadata": {},
   "source": [
    "Then you can call elements of each list by indexing them seperatley. A `[:]` will call all elements of a list."
   ]
  },
  {
   "cell_type": "code",
   "execution_count": null,
   "metadata": {
    "collapsed": false
   },
   "outputs": [],
   "source": [
    "print list_total[1][:]"
   ]
  },
  {
   "cell_type": "markdown",
   "metadata": {},
   "source": [
    "###Challenge 3\n",
    "Produce a list of lists, one list containing some places and the other temperatures. And print them out."
   ]
  },
  {
   "cell_type": "code",
   "execution_count": null,
   "metadata": {
    "collapsed": false
   },
   "outputs": [],
   "source": [
    "temps = [56,63,39,90,78]\n",
    "places = ['UK', 'FRANCE', 'NORWAY', \"HAWI'I\", 'CANADA']\n",
    "temp_list = [places, temps]\n",
    "print temp_list"
   ]
  },
  {
   "cell_type": "markdown",
   "metadata": {},
   "source": [
    "###Dictionaries\n",
    "Finally we also have dictionaries. Dictionaries are an unordered set of key and value pairs. An empty dictionary is denoted by adict = {}. We can then extract information from it."
   ]
  },
  {
   "cell_type": "code",
   "execution_count": null,
   "metadata": {
    "collapsed": false
   },
   "outputs": [],
   "source": [
    "times = {'Jones':27, 'Ames':26, 'Andrews':29}\n",
    "print times.keys()\n",
    "print times"
   ]
  },
  {
   "cell_type": "markdown",
   "metadata": {},
   "source": [
    "If the keys are strings then you can use the dict method `dict = (some stuff)`"
   ]
  },
  {
   "cell_type": "code",
   "execution_count": null,
   "metadata": {
    "collapsed": false
   },
   "outputs": [],
   "source": [
    "times = dict(Jones=27, Ames=26, Andrews=29)\n",
    "print times"
   ]
  },
  {
   "cell_type": "markdown",
   "metadata": {},
   "source": [
    "##Iterations\n",
    "Essential for efficient programming, `for` and `while` loops are an integral part of python (and for that matter all languages). So lets go over the syntax. For loops take the form:"
   ]
  },
  {
   "cell_type": "code",
   "execution_count": null,
   "metadata": {
    "collapsed": false
   },
   "outputs": [],
   "source": [
    "for i in range(1,10):\n",
    "    print i"
   ]
  },
  {
   "cell_type": "markdown",
   "metadata": {},
   "source": [
    "Indent is crucial in Python. For blocks like For, While and If, the block is defined by the indent i.e. returning to the left margin ends the block.\n",
    "\n",
    "We can also iterate over a list. Useful as we the don't have to define our upper boundary when setting up the loop."
   ]
  },
  {
   "cell_type": "code",
   "execution_count": null,
   "metadata": {
    "collapsed": false
   },
   "outputs": [],
   "source": [
    "for i in alist:\n",
    "    print i"
   ]
  },
  {
   "cell_type": "markdown",
   "metadata": {},
   "source": [
    "While will loop continously until a condition is met.Use a `for` loop to print out the pairs of places and temperatures you saw earier. You "
   ]
  },
  {
   "cell_type": "code",
   "execution_count": null,
   "metadata": {
    "collapsed": false
   },
   "outputs": [],
   "source": [
    "for place, temp in zip(places, temps):\n",
    "    print \"In {0} the temperature is {1} degrees\".format(place, temp)"
   ]
  },
  {
   "cell_type": "markdown",
   "metadata": {},
   "source": [
    "A `while` will loop continously until a condition is met."
   ]
  },
  {
   "cell_type": "code",
   "execution_count": null,
   "metadata": {
    "collapsed": false
   },
   "outputs": [],
   "source": [
    "x = 0\n",
    "while x <= 20:\n",
    "    x = x**2 + 1\n",
    "    print x"
   ]
  },
  {
   "cell_type": "markdown",
   "metadata": {},
   "source": [
    "We can also end this using an If statement. Logic commands in python are:\n",
    "\n",
    "* == exactly equal\n",
    "* != not equal\n",
    "* \\>(=) less than (equal to)\n",
    "* <(=) more than (equal to)"
   ]
  },
  {
   "cell_type": "code",
   "execution_count": null,
   "metadata": {
    "collapsed": false
   },
   "outputs": [],
   "source": [
    "x = 0\n",
    "while True:\n",
    "    x = x**2 + 1\n",
    "    print x\n",
    "    if x >=20:\n",
    "        break"
   ]
  },
  {
   "cell_type": "markdown",
   "metadata": {},
   "source": [
    "There are a couple of things to notice in the above block of code. The first is the `while True` which continues the loop until it a condition is fulfilled within the loop, in this case by an `if`."
   ]
  },
  {
   "cell_type": "markdown",
   "metadata": {},
   "source": [
    "###Challenge 5\n",
    "You're now going to build a pin check. Write some code which reads in a 4 digit number (however you want to do this) and the checks to see whether it matches the preset one (you will have to define you pin to check against before executing the loop).\n",
    "\n",
    "You will also need to know that `raw_input()` takes in a string."
   ]
  },
  {
   "cell_type": "code",
   "execution_count": null,
   "metadata": {
    "collapsed": false
   },
   "outputs": [],
   "source": [
    "def_pin = 4565\n",
    "while True:\n",
    "    print \"Please put in your pin number\"\n",
    "    first_pin = raw_input('>')\n",
    "    pin = float(first_pin)\n",
    "    if pin == def_pin:\n",
    "        print \"Correct! have a biscuit\"\n",
    "        break\n",
    "    else:\n",
    "        print \"pin incorrect, please try again\"\n",
    "    "
   ]
  }
 ],
 "metadata": {
  "kernelspec": {
   "display_name": "Python 2",
   "language": "python",
   "name": "python2"
  },
  "language_info": {
   "codemirror_mode": {
    "name": "ipython",
    "version": 2
   },
   "file_extension": ".py",
   "mimetype": "text/x-python",
   "name": "python",
   "nbconvert_exporter": "python",
   "pygments_lexer": "ipython2",
   "version": "2.7.8"
  }
 },
 "nbformat": 4,
 "nbformat_minor": 0
}
