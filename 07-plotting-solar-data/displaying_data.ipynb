{
 "cells": [
  {
   "cell_type": "markdown",
   "metadata": {},
   "source": [
    "# Displaying SunPy Data"
   ]
  },
  {
   "cell_type": "markdown",
   "metadata": {},
   "source": [
    "## Objectives"
   ]
  },
  {
   "cell_type": "markdown",
   "metadata": {},
   "source": [
    "- Create plots of `Map`, `LightCurve` and `Spectrum` objects using `plot()` and `peek()`\n",
    "- Use SunPy colour maps for displaying data\n",
    "- Create animations of `Map` data using the `MapCube` object"
   ]
  },
  {
   "cell_type": "markdown",
   "metadata": {},
   "source": [
    "## Basic plotting"
   ]
  },
  {
   "cell_type": "markdown",
   "metadata": {},
   "source": [
    "Before doing anything we'll need to import SunPy and matplotlib:"
   ]
  },
  {
   "cell_type": "code",
   "execution_count": null,
   "metadata": {
    "collapsed": false
   },
   "outputs": [],
   "source": [
    "import sunpy\n",
    "import matplotlib.pyplot as plt\n",
    "%matplotlib inline"
   ]
  },
  {
   "cell_type": "markdown",
   "metadata": {},
   "source": [
    "The main SunPy data types - `Map`, `LightCurve` and `Spectrum` - can all be displayed by manually showing their data attributes with `plot()` or `imshow()`. However, they all also have two methods which deal with the majority of the plotting process for us: `peek()` and `plot()`. \n",
    "\n",
    "`peek()` displays a basic plot of the data and is useful for as a quick-look tool. It applies the relevant limits to the plot and adds titles and axis labels, but otherwise does little to enhance the display of the data.\n",
    "\n",
    "A basic call to `plot()` with no arguments will do the same thing as `peek()`. However, the advantage of `plot()` is that arguments passed to it are in turn passed to the matplotlib plotting function. This gives `plot()` all the flexibility of `plt.imshow()` or `plt.plot()`."
   ]
  },
  {
   "cell_type": "markdown",
   "metadata": {},
   "source": [
    "### Plotting data from a Map"
   ]
  },
  {
   "cell_type": "markdown",
   "metadata": {},
   "source": [
    "`Map.peek()` shows a basic display of the Map's data with a title, axis labels and a colour bar."
   ]
  },
  {
   "cell_type": "code",
   "execution_count": null,
   "metadata": {
    "collapsed": false
   },
   "outputs": [],
   "source": [
    "# Make a Map object to display\n",
    "\n",
    "# Quick-plot the Map\n"
   ]
  },
  {
   "cell_type": "markdown",
   "metadata": {},
   "source": [
    "`peek()` can also draw latitude-longitude gridlines and remove the colour bar or the labels:"
   ]
  },
  {
   "cell_type": "code",
   "execution_count": null,
   "metadata": {
    "collapsed": false
   },
   "outputs": [],
   "source": []
  },
  {
   "cell_type": "code",
   "execution_count": null,
   "metadata": {
    "collapsed": false
   },
   "outputs": [],
   "source": []
  },
  {
   "cell_type": "markdown",
   "metadata": {},
   "source": [
    "`Map.plot()` can also be used for basic plotting of `Map` data:"
   ]
  },
  {
   "cell_type": "code",
   "execution_count": null,
   "metadata": {
    "collapsed": false
   },
   "outputs": [],
   "source": [
    "# Display the Map again\n"
   ]
  },
  {
   "cell_type": "markdown",
   "metadata": {},
   "source": [
    "In fact this is slightly more basic than before, since it doesn't include a colour bar. But `Map.plot()` can also be used for more complex plots:"
   ]
  },
  {
   "cell_type": "code",
   "execution_count": null,
   "metadata": {
    "collapsed": false
   },
   "outputs": [],
   "source": []
  },
  {
   "cell_type": "markdown",
   "metadata": {},
   "source": [
    "### Plotting data from a LightCurve"
   ]
  },
  {
   "cell_type": "markdown",
   "metadata": {},
   "source": [
    "As with `Map.peek()`, `LightCurve.peek()` displays the data in its most basic presentable form. For a GOES lightcurve that means not only plotting the data and adding a title and axis labels, but also labelling the plots on the graph, ensu6ring they're plotted on a logarithmic scale and adding gridlines indicating the threshold values for flare classes."
   ]
  },
  {
   "cell_type": "code",
   "execution_count": null,
   "metadata": {
    "collapsed": false
   },
   "outputs": [],
   "source": []
  },
  {
   "cell_type": "markdown",
   "metadata": {},
   "source": [
    "`plot()` in this case provides a much more basic plot, but again allows the flexibility to customise the display and potentially make it much more complex."
   ]
  },
  {
   "cell_type": "code",
   "execution_count": null,
   "metadata": {
    "collapsed": false
   },
   "outputs": [],
   "source": []
  },
  {
   "cell_type": "markdown",
   "metadata": {},
   "source": [
    "The individual data series of the lightcurve also have `plot()` methods which can be called."
   ]
  },
  {
   "cell_type": "code",
   "execution_count": null,
   "metadata": {
    "collapsed": false
   },
   "outputs": [],
   "source": []
  },
  {
   "cell_type": "markdown",
   "metadata": {},
   "source": [
    "### Plotting data from a Spectrum"
   ]
  },
  {
   "cell_type": "code",
   "execution_count": null,
   "metadata": {
    "collapsed": false
   },
   "outputs": [],
   "source": []
  },
  {
   "cell_type": "code",
   "execution_count": null,
   "metadata": {
    "collapsed": false
   },
   "outputs": [],
   "source": []
  },
  {
   "cell_type": "markdown",
   "metadata": {},
   "source": [
    "## Plotting multiple Maps"
   ]
  },
  {
   "cell_type": "markdown",
   "metadata": {},
   "source": [
    "The `plot()` methods described above can of course be combined with subplots in the usual way to plot different sets of data next to each other. However, in the case of Maps, you can also overlay one on top of another using the `CompositeMap` subclass. A `CompositeMap` is created by passing Map more than one file and setting `composite` to `True`:"
   ]
  },
  {
   "cell_type": "code",
   "execution_count": null,
   "metadata": {
    "collapsed": false
   },
   "outputs": [],
   "source": [
    "# Create a new CompositeMap containing an AIA image and a RHESSI image\n"
   ]
  },
  {
   "cell_type": "markdown",
   "metadata": {},
   "source": [
    "The individual Maps are stored in the order they are specified when the CompositeMap, so in the example above the AIAMap is at index 0 and the RHESSIMap is at index 1. They can then be accessed individually if necessary calling the `get_map()` method and passing it the appropriate index."
   ]
  },
  {
   "cell_type": "code",
   "execution_count": null,
   "metadata": {
    "collapsed": false
   },
   "outputs": [],
   "source": [
    "# Plot both the images used and the composite\n"
   ]
  },
  {
   "cell_type": "markdown",
   "metadata": {},
   "source": [
    "Notice that the AIAMap and the RHESSIMap have different extents but the CompositeMap automatically aligns the images on the plot.\n",
    "\n",
    "We can also adjust the colour maps and transparencies of the images, using the `set_colours()` and `set_alpha()` methods respectively. These methods both take the index of the Map you want to change and the new transparency value or colour map."
   ]
  },
  {
   "cell_type": "code",
   "execution_count": null,
   "metadata": {
    "collapsed": false
   },
   "outputs": [],
   "source": [
    "# Plot the composite map again and adjust the plot limits\n",
    "\n",
    "# Change the transparency of the RHESSI image\n",
    "\n",
    "# Change the transparency of the RHESSI image\n",
    "\n",
    "# Change the colour map of the RHESSI image\n"
   ]
  },
  {
   "cell_type": "markdown",
   "metadata": {},
   "source": [
    "## SunPy colour maps"
   ]
  },
  {
   "cell_type": "markdown",
   "metadata": {},
   "source": [
    "Although matplotlib defines several colour maps, many of these are not particularly applicable for displaying solar data. In some cases, the data you wish to display are conventionally shown in a different colour map, such as the AIA colour schemes. For this reason, SunPy provides the colour maps for data from several instruments: Hinode, HMI, RHESSI, AIA, EIT, LASCO, COR1, COR2, TRACE and Yohkoh.\n",
    "\n",
    "These colour maps are stored in sunpy.cm and can be accessed like this:"
   ]
  },
  {
   "cell_type": "code",
   "execution_count": null,
   "metadata": {
    "collapsed": false
   },
   "outputs": [],
   "source": []
  },
  {
   "cell_type": "markdown",
   "metadata": {},
   "source": [
    "Unlike the matplotlib colour maps, these can't be specified when plotting using just a string, so you have to get the colour map object itself and pass this when you plot your data."
   ]
  },
  {
   "cell_type": "code",
   "execution_count": null,
   "metadata": {
    "collapsed": false
   },
   "outputs": [],
   "source": [
    "# To grab a particular colour map\n",
    "\n",
    "# Plot AIA 17.1nm data with the TRACE 17.1nm colour map\n"
   ]
  },
  {
   "cell_type": "markdown",
   "metadata": {},
   "source": [
    "## Animations in SunPy"
   ]
  },
  {
   "cell_type": "markdown",
   "metadata": {},
   "source": [
    "In the previous section we saw how SunPy uses matplotlib to enable basic plotting of data. However, SunPy's plotting capabilities also make it easy to make animations of data.\n",
    "\n",
    "A `MapCube` is created similarly to a `CompositeMap`, by passing multiple files to `Map`. This time, however, instead of setting `composite` to `True`, we set `cube` to `True`:"
   ]
  },
  {
   "cell_type": "code",
   "execution_count": null,
   "metadata": {
    "collapsed": false
   },
   "outputs": [],
   "source": []
  },
  {
   "cell_type": "markdown",
   "metadata": {},
   "source": [
    "The individual Maps in the `MapCube` are then stored as a list in its `.maps` attribute."
   ]
  },
  {
   "cell_type": "code",
   "execution_count": null,
   "metadata": {
    "collapsed": false
   },
   "outputs": [],
   "source": []
  },
  {
   "cell_type": "markdown",
   "metadata": {},
   "source": [
    "As with `Map`, `LightCurve` and `Spectrum`, `MapCube` has the `peek()` and `plot()` methods for displaying its data. The difference here is that `MapCube.peek()` and `MapCube.plot()` will automatically animate the data with a pause button and a slider.\n",
    "\n",
    "Unfortunately, this doesn't animate correctly when shown inline in an IPython notebook, so to make it work we need to have it open a new window containing the plot. This will not be a problem most of the time, since you'll most often be working in another editor."
   ]
  },
  {
   "cell_type": "code",
   "execution_count": null,
   "metadata": {
    "collapsed": false
   },
   "outputs": [],
   "source": [
    "# Un-inline the matplotlib display\n",
    "\n",
    "# Show the data we've loaded into the MapCube\n"
   ]
  },
  {
   "cell_type": "markdown",
   "metadata": {},
   "source": [
    "`MapCube.plot()` is little different, in that the object it returns only exists while it has a name, due to how Python's garbage collection system works. This means that when we call `plot()` we have to give it a name in order for the animation to work.\n",
    "\n",
    "We can also set the interval between images (in milliseconds) and resample them to speed up the drawing process, using the `interval` and `resample` keywords respectively."
   ]
  },
  {
   "cell_type": "code",
   "execution_count": null,
   "metadata": {
    "collapsed": false
   },
   "outputs": [],
   "source": [
    "# Show the data again with .plot()\n",
    "\n",
    "# Add a colour bar and adjust the image limits in the same way as any other plot\n"
   ]
  },
  {
   "cell_type": "markdown",
   "metadata": {},
   "source": [
    "<div style='background:#B1E0A8; padding:10px 10px 10px 10px;'>\n",
    "<h2>Challenges</h2>\n",
    "SunPy includes several test data files: sunpy.AIA_171_IMAGE, sunpy.CALLISTO_IMAGE, sunpy.EIT_195_IMAGE, sunpy.RHESSI_EVENT_LIST, and sunpy.RHESSI_IMAGE.\n",
    "<ol>\n",
    " <li>Open one of these test files and show it using .peek()</li>\n",
    " <li>Show it using .plot()</li>\n",
    " <li>Adjust the image limits on the second plot</li>\n",
    " <li>Choose a new colour map and replot the image with .plot()</li>\n",
    "</ol>\n",
    "</div>"
   ]
  },
  {
   "cell_type": "code",
   "execution_count": null,
   "metadata": {
    "collapsed": true
   },
   "outputs": [],
   "source": []
  }
 ],
 "metadata": {
  "kernelspec": {
   "display_name": "Python 2",
   "language": "python",
   "name": "python2"
  },
  "language_info": {
   "codemirror_mode": {
    "name": "ipython",
    "version": 2
   },
   "file_extension": ".py",
   "mimetype": "text/x-python",
   "name": "python",
   "nbconvert_exporter": "python",
   "pygments_lexer": "ipython2",
   "version": "2.7.9"
  }
 },
 "nbformat": 4,
 "nbformat_minor": 0
}
