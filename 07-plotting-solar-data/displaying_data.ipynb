{
 "metadata": {
  "name": "",
  "signature": "sha256:5c9410ececebce65e01a4ab32b6e345a8b02982fb8880a5bf59c51a197ba9178"
 },
 "nbformat": 3,
 "nbformat_minor": 0,
 "worksheets": [
  {
   "cells": [
    {
     "cell_type": "heading",
     "level": 1,
     "metadata": {},
     "source": [
      "Displaying SunPy Data"
     ]
    },
    {
     "cell_type": "heading",
     "level": 2,
     "metadata": {},
     "source": [
      "Basic plotting"
     ]
    },
    {
     "cell_type": "markdown",
     "metadata": {},
     "source": [
      "Before doing anything we'll need to import SunPy and matplotlib:"
     ]
    },
    {
     "cell_type": "code",
     "collapsed": false,
     "input": [
      "import sunpy\n",
      "import matplotlib.pyplot as plt\n",
      "%matplotlib inline"
     ],
     "language": "python",
     "metadata": {},
     "outputs": []
    },
    {
     "cell_type": "markdown",
     "metadata": {},
     "source": [
      "The main SunPy data types - `Map`, `LightCurve` and `Spectrum` - can all be displayed by manually showing their data attributes with `plot()` or `imshow()`. However, they all also have two methods which deal with the majority of the plotting process for us: `peek()` and `plot()`. \n",
      "\n",
      "`peek()` displays a basic plot of the data and is useful for as a quick-look tool. It applies the relevant limits to the plot and adds titles and axis labels, but otherwise does little to enhance the display of the data.\n",
      "\n",
      "A basic call to `plot()` with no arguments will do the same thing as `peek()`. However, the advantage of `plot()` is that arguments passed to it are in turn passed to the matplotlib plotting function. This gives `plot()` all the flexibility of `plt.imshow()` or `plt.plot()`."
     ]
    },
    {
     "cell_type": "heading",
     "level": 3,
     "metadata": {},
     "source": [
      "Plotting data from a Map"
     ]
    },
    {
     "cell_type": "markdown",
     "metadata": {},
     "source": [
      "`Map.peek()` shows a basic display of the Map's data with a title, axis labels and a colour bar. It also returns a matplotlib figure object."
     ]
    },
    {
     "cell_type": "code",
     "collapsed": false,
     "input": [
      "# Import Map and make a Map object to display\n",
      "import sunpy.map\n",
      "\n",
      "aiamap = sunpy.map.Map(sunpy.AIA_171_IMAGE)\n",
      "\n",
      "# Quick-plot the Map\n",
      "fig = aiamap.peek()"
     ],
     "language": "python",
     "metadata": {},
     "outputs": []
    },
    {
     "cell_type": "markdown",
     "metadata": {},
     "source": [
      "`peek()` can also draw latitude-longitude gridlines and remove the colour bar or the labels:"
     ]
    },
    {
     "cell_type": "code",
     "collapsed": false,
     "input": [
      "fig = aiamap.peek(draw_grid=True, colorbar=False)\n",
      "fig = aiamap.peek(basic_plot=True)\n",
      "#plt.show()"
     ],
     "language": "python",
     "metadata": {},
     "outputs": []
    },
    {
     "cell_type": "markdown",
     "metadata": {},
     "source": [
      "`Map.plot()` can also be used for basic plotting of `Map` data:"
     ]
    },
    {
     "cell_type": "code",
     "collapsed": false,
     "input": [
      "plt.close()\n",
      "# Display the Map again\n",
      "aiamap.plot()\n",
      "plt.show()"
     ],
     "language": "python",
     "metadata": {},
     "outputs": []
    },
    {
     "cell_type": "markdown",
     "metadata": {},
     "source": [
      "In fact this is slightly more basic than before, since it doesn't include a colour bar. But `Map.plot()` can also be used for more complex plots:"
     ]
    },
    {
     "cell_type": "code",
     "collapsed": false,
     "input": [
      "plt.close()\n",
      "fig = plt.figure(figsize=(12, 12))\n",
      "aiamap.plot(vmin=200, vmax=1200, cmap=\"cubehelix\")\n",
      "aiamap.draw_grid(grid_spacing=5) # Do this with no argument, then add one to demonstrate it\n",
      "plt.xlim(-350, 150)\n",
      "plt.ylim(-600, -100)\n",
      "plt.colorbar(orientation=\"horizontal\")\n",
      "plt.show()"
     ],
     "language": "python",
     "metadata": {},
     "outputs": []
    },
    {
     "cell_type": "heading",
     "level": 3,
     "metadata": {},
     "source": [
      "Plotting data from a LightCurve"
     ]
    },
    {
     "cell_type": "markdown",
     "metadata": {},
     "source": [
      "As with `Map.peek()`, `LightCurve.peek()` displays the data in its most basic presentable form. For a GOES lightcurve that means not only plotting the data and adding a title and axis labels, but also labelling the plots on the graph, ensu6ring they're plotted on a logarithmic scale and adding gridlines indicating the threshold values for flare classes."
     ]
    },
    {
     "cell_type": "code",
     "collapsed": false,
     "input": [
      "import datetime\n",
      "import numpy as np\n",
      "from sunpy.lightcurve import GOESLightCurve\n",
      "\n",
      "goes = GOESLightCurve.from_yesterday()\n",
      "fig = goes.peek()"
     ],
     "language": "python",
     "metadata": {},
     "outputs": []
    },
    {
     "cell_type": "markdown",
     "metadata": {},
     "source": [
      "`plot()` in this case provides a much more basic plot, but again allows the flexibility to customise the display and potentially make it much more complex."
     ]
    },
    {
     "cell_type": "code",
     "collapsed": false,
     "input": [
      "plt.close()\n",
      "fig = plt.figure(figsize=(8, 8))\n",
      "goes.plot(title=\"GOES data from yesterday\")\n",
      "plt.show()"
     ],
     "language": "python",
     "metadata": {},
     "outputs": []
    },
    {
     "cell_type": "markdown",
     "metadata": {},
     "source": [
      "The individual data series of the lightcurve also have `plot()` methods which can be called."
     ]
    },
    {
     "cell_type": "code",
     "collapsed": false,
     "input": [
      "fig = goes.data['xrsa'].plot(color='black')\n",
      "fig.set_yscale(\"log\")\n",
      "yesterday = datetime.datetime.today() - datetime.timedelta(hours=24)\n",
      "#plt.xlim(yesterday - datetime.timedelta(hours=12), yesterday) # Can't get limits to work :s\n",
      "plt.show()"
     ],
     "language": "python",
     "metadata": {},
     "outputs": []
    },
    {
     "cell_type": "heading",
     "level": 3,
     "metadata": {},
     "source": [
      "Plotting data from a Spectrum"
     ]
    },
    {
     "cell_type": "code",
     "collapsed": false,
     "input": [
      "plt.close()\n",
      "\n",
      "from sunpy.spectra.sources.callisto import CallistoSpectrogram\n",
      "callisto = CallistoSpectrogram.read(sunpy.CALLISTO_IMAGE)\n",
      "\n",
      "fig = image.peek()"
     ],
     "language": "python",
     "metadata": {},
     "outputs": []
    },
    {
     "cell_type": "code",
     "collapsed": false,
     "input": [
      "plt.close()\n",
      "callisto = callisto.subtract_bg()\n",
      "fig = plt.figure(figsize=(8, 8))\n",
      "callisto.plot(cmap='gist_heat') # can probably pick a better cmap here\n",
      "plt.show()"
     ],
     "language": "python",
     "metadata": {},
     "outputs": []
    },
    {
     "cell_type": "heading",
     "level": 2,
     "metadata": {},
     "source": [
      "Plotting multiple Maps"
     ]
    },
    {
     "cell_type": "markdown",
     "metadata": {},
     "source": [
      "The `plot()` methods described above can of course be combined with subplots in the usual way to plot different sets of data next to each other. However, in the case of Maps, you can also overlay one on top of another using the `CompositeMap` subclass. A `CompositeMap` is created by passing Map more than one file and setting `composite` to `True`:"
     ]
    },
    {
     "cell_type": "code",
     "collapsed": false,
     "input": [
      "plt.close()\n",
      "\n",
      "# Create a new CompositeMap containing an AIA image and a RHESSI image\n",
      "compmap = sunpy.map.Map(sunpy.AIA_171_IMAGE, sunpy.RHESSI_IMAGE, composite=True)"
     ],
     "language": "python",
     "metadata": {},
     "outputs": []
    },
    {
     "cell_type": "markdown",
     "metadata": {},
     "source": [
      "The individul Maps are stored in the order they are specified when the CompositeMap, so in the example above the AIAMap is at index 0 and the RHESSIMap is at index 1. They can then be accessed individually if neccessary calling the `get_map()` method and passing it the appropriate index."
     ]
    },
    {
     "cell_type": "code",
     "collapsed": false,
     "input": [
      "# Plot both the images used and the composite\n",
      "fig = plt.figure(figsize=(16, 5))\n",
      "fig.add_subplot(1, 3, 1)\n",
      "compmap.get_map(0).plot()\n",
      "fig.add_subplot(1, 3, 2)\n",
      "compmap.get_map(1).plot()\n",
      "fig.add_subplot(1, 3, 3)\n",
      "compmap.plot()\n",
      "plt.show()"
     ],
     "language": "python",
     "metadata": {},
     "outputs": []
    },
    {
     "cell_type": "markdown",
     "metadata": {},
     "source": [
      "Notice that the AIAMap and the RHESSIMap have different extents but the CompositeMap automatically aligns the images on the plot.\n",
      "\n",
      "We can also adjust the colour maps and transparencies of the images, using the `set_colours()` and `set_alpha()` methods respectively. These methods both take the index of the Map you want to change and the new transparency value or colour map."
     ]
    },
    {
     "cell_type": "code",
     "collapsed": false,
     "input": [
      "fig = plt.figure(figsize=(12, 12))\n",
      "# Plot the composite map again and adjust the plot limits\n",
      "compmap.plot()\n",
      "plt.xlim(250, 550)\n",
      "plt.ylim(-550, -250)\n",
      "\n",
      "# Change the transparency of the RHESSI image\n",
      "compmap.set_alpha(0, 0.8)\n",
      "# Change the transparency of the RHESSI image\n",
      "compmap.set_alpha(1, 0.4)\n",
      "\n",
      "# Change the colour map of the RHESSI image\n",
      "compmap.set_colors(1, 'coolwarm')\n",
      "\n",
      "plt.show()"
     ],
     "language": "python",
     "metadata": {},
     "outputs": []
    },
    {
     "cell_type": "heading",
     "level": 2,
     "metadata": {},
     "source": [
      "SunPy colour maps"
     ]
    },
    {
     "cell_type": "markdown",
     "metadata": {},
     "source": [
      "Although matplotlib defines several colour maps, many of these are not particularly applicable for displaying solar data. In some cases, the data you wish to display are conventionally shown in a different colour map, such as the AIA colour schemes. For this reason, SunPy provides the colour maps for data from several instruments: Hinode, HMI, RHESSI, AIA, EIT, LASCO, COR1, COR2, TRACE and Yohkoh.\n",
      "\n",
      "These colour maps are stored in sunpy.cm and can be accessed like this:"
     ]
    },
    {
     "cell_type": "code",
     "collapsed": false,
     "input": [
      "from sunpy.cm import cm\n",
      "\n",
      "# cmlist is a dictionary with all of the color tables\n",
      "# to list all of the keys of the dictionary\n",
      "print cm.cmlist.keys()\n",
      "\n",
      "# you can also get a visual representation of all of the color tables\n",
      "cm.show_colormaps()"
     ],
     "language": "python",
     "metadata": {},
     "outputs": []
    },
    {
     "cell_type": "markdown",
     "metadata": {},
     "source": [
      "Unlike the matplotlib colour maps, these can't be specified when plotting using just a string, so you have to get the colour map object itself and pass this when you plot your data."
     ]
    },
    {
     "cell_type": "code",
     "collapsed": false,
     "input": [
      "# To grab a particular colour map\n",
      "cmap = cm.cmlist.get('trace171')\n",
      "\n",
      "# Plot AIA 17.1nm data with the TRACE 17.1nm colour map\n",
      "aiamap.plot(cmap=cmap)\n",
      "plt.show()"
     ],
     "language": "python",
     "metadata": {},
     "outputs": []
    },
    {
     "cell_type": "heading",
     "level": 2,
     "metadata": {},
     "source": [
      "sunpy.visualization"
     ]
    },
    {
     "cell_type": "markdown",
     "metadata": {},
     "source": [
      "In the previous section we saw how SunPy uses matplotlib to enable basic plotting of data. However, SunPy also has its own visualisation module, called (surprisingly enough) `visualization`."
     ]
    },
    {
     "cell_type": "code",
     "collapsed": false,
     "input": [
      "import sunpy.visualization\n",
      "\n",
      "mapcube = sunpy.map.Map(sunpy.AIA_171_IMAGE, sunpy.EIT_195_IMAGE, sunpy.RHESSI_IMAGE)\n",
      "\n",
      "mapcube.plot()"
     ],
     "language": "python",
     "metadata": {},
     "outputs": []
    }
   ],
   "metadata": {}
  }
 ]
}