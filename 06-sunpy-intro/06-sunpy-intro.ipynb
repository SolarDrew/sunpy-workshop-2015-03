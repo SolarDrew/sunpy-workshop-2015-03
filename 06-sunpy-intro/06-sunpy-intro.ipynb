{
 "cells": [
  {
   "cell_type": "markdown",
   "metadata": {},
   "source": [
    "# SunPy"
   ]
  },
  {
   "cell_type": "markdown",
   "metadata": {},
   "source": [
    "So we are now at the heart of this event. Welcome to SunPy!\n",
    "\n",
    "SunPy is a Python library for the analysis of solar data.\n",
    "\n",
    "The SunPy project, from the document that created it exists to: facilitate and promote the use and development of a community-led, free and open-source solar data-analysis software based on the scientific Python environment.\n",
    "\n",
    "So let us start with me giving you a brief overview of the SunPy library. Before my colleagues give you a more detailed look at specific parts!"
   ]
  },
  {
   "cell_type": "code",
   "execution_count": null,
   "metadata": {
    "collapsed": true
   },
   "outputs": [],
   "source": [
    "# For our own sake."
   ]
  },
  {
   "cell_type": "code",
   "execution_count": null,
   "metadata": {
    "collapsed": true
   },
   "outputs": [],
   "source": []
  },
  {
   "cell_type": "markdown",
   "metadata": {},
   "source": [
    "So now we have it imported, let me show you a magical world of SunPy maps."
   ]
  },
  {
   "cell_type": "code",
   "execution_count": null,
   "metadata": {
    "collapsed": false,
    "scrolled": true
   },
   "outputs": [],
   "source": []
  },
  {
   "cell_type": "markdown",
   "metadata": {},
   "source": [
    "Wait? Where are my functions? For SunPy the top level name-space is kept clean. Importing SunPy does not give you access to much. You need to import specific names. SciPy is the same. \n",
    "\n",
    "So, the place to start here is with the core SunPy data object. It is called Map. "
   ]
  },
  {
   "cell_type": "code",
   "execution_count": null,
   "metadata": {
    "collapsed": false
   },
   "outputs": [],
   "source": []
  },
  {
   "cell_type": "markdown",
   "metadata": {},
   "source": [
    "We need data though! Luckily SunPy keeps a small collection of data for test purposes. These are downsized fits for a range of different data sources. "
   ]
  },
  {
   "cell_type": "code",
   "execution_count": null,
   "metadata": {
    "collapsed": false
   },
   "outputs": [],
   "source": []
  },
  {
   "cell_type": "markdown",
   "metadata": {},
   "source": [
    "Map is similar to a NumPy N-D array. It is designed to be a generic data container. It inherits NumPy's ND-data array. It however was created to be aware of its spacial axes *i.e.,* it can tell you what the units the axes are in or the resolution. Further it has a basic header that summaries the important data but also contains the full FITS header information if you require it at a later date. \n",
    "\n",
    "## Today, we won't use this test data!\n",
    "\n",
    "It is time to do a distributed denial-of-service attack on Virtual Solar Observatory (VSO).\n",
    "\n",
    "First we need to get at the network module in SunPy!"
   ]
  },
  {
   "cell_type": "code",
   "execution_count": null,
   "metadata": {
    "collapsed": true
   },
   "outputs": [],
   "source": []
  },
  {
   "cell_type": "markdown",
   "metadata": {},
   "source": [
    "Now, we need to select the VSO download client."
   ]
  },
  {
   "cell_type": "code",
   "execution_count": null,
   "metadata": {
    "collapsed": true
   },
   "outputs": [],
   "source": []
  },
  {
   "cell_type": "markdown",
   "metadata": {},
   "source": [
    "Then do a search!\n",
    "\n",
    "This part is the hard part since it requires lots of inputs!"
   ]
  },
  {
   "cell_type": "code",
   "execution_count": null,
   "metadata": {
    "collapsed": false
   },
   "outputs": [],
   "source": []
  },
  {
   "cell_type": "markdown",
   "metadata": {},
   "source": [
    "It works, now lets see how many results we have!"
   ]
  },
  {
   "cell_type": "code",
   "execution_count": null,
   "metadata": {
    "collapsed": false
   },
   "outputs": [],
   "source": []
  },
  {
   "cell_type": "markdown",
   "metadata": {},
   "source": [
    "Erm..... That is way too many forus all of us to download.\n",
    "\n",
    "So what do we have?"
   ]
  },
  {
   "cell_type": "code",
   "execution_count": null,
   "metadata": {
    "collapsed": false,
    "scrolled": true
   },
   "outputs": [],
   "source": []
  },
  {
   "cell_type": "markdown",
   "metadata": {},
   "source": [
    "So that is every image that SDO/HMI had on that day. Let us reduce that amount.\n",
    "\n",
    "To do this, we will limit the time search and specify a wavelength."
   ]
  },
  {
   "cell_type": "code",
   "execution_count": null,
   "metadata": {
    "collapsed": false
   },
   "outputs": [],
   "source": []
  },
  {
   "cell_type": "code",
   "execution_count": null,
   "metadata": {
    "collapsed": false
   },
   "outputs": [],
   "source": []
  },
  {
   "cell_type": "code",
   "execution_count": null,
   "metadata": {
    "collapsed": false
   },
   "outputs": [],
   "source": []
  },
  {
   "cell_type": "markdown",
   "metadata": {},
   "source": [
    "I think VSO won't be too angry if we download that data. So let us download this file!\n",
    "\n",
    "But wait! Everyone loves Rice. So we want to reduce the size of our download even further."
   ]
  },
  {
   "cell_type": "code",
   "execution_count": null,
   "metadata": {
    "collapsed": false
   },
   "outputs": [],
   "source": []
  },
  {
   "cell_type": "markdown",
   "metadata": {},
   "source": [
    "Now we have our data file. It has been added to a SunPy data folder for your own personal use."
   ]
  },
  {
   "cell_type": "code",
   "execution_count": null,
   "metadata": {
    "collapsed": false
   },
   "outputs": [],
   "source": []
  },
  {
   "cell_type": "markdown",
   "metadata": {},
   "source": [
    "As you can see, it is quite simple. The Map Class was made to be as generic as possible and for specific instruments, it was sub-classed in-order to provide instrument-centric support. \n",
    "\n",
    "The Map class takes the input, in this case, a FITs file. It then processes the meta data (the FITs header) and decides what submap to reference. Here, it has chosen the only sensible choice, AIAMap.\n",
    "\n",
    "If we print the output."
   ]
  },
  {
   "cell_type": "code",
   "execution_count": null,
   "metadata": {
    "collapsed": false,
    "scrolled": true
   },
   "outputs": [],
   "source": []
  },
  {
   "cell_type": "markdown",
   "metadata": {},
   "source": [
    "So this is the summary of the data we have. Where it is from, basic information of spatial and temporal scales and the raw data in a sanitized form.\n",
    "\n",
    "Let us now look at this data we went so far to download!"
   ]
  },
  {
   "cell_type": "code",
   "execution_count": null,
   "metadata": {
    "collapsed": false
   },
   "outputs": [],
   "source": []
  },
  {
   "cell_type": "markdown",
   "metadata": {},
   "source": [
    "Looks really pretty! But we want to see a smaller region, so we can actually see some detail."
   ]
  },
  {
   "cell_type": "code",
   "execution_count": null,
   "metadata": {
    "collapsed": false
   },
   "outputs": [],
   "source": []
  },
  {
   "cell_type": "markdown",
   "metadata": {},
   "source": [
    "As you will see later, submap is really useful for zooming into a region of interest.\n",
    "So Map is important, it forms the core of SunPy.\n",
    "\n",
    "## Map"
   ]
  },
  {
   "cell_type": "markdown",
   "metadata": {
    "collapsed": false
   },
   "source": [
    "Maps are the same for each file, **regardless of source**. It does not matter if the source is SDO or SOHO, for example.\n",
    "\n",
    "The most used attributes are as follows (some of them will look similar to NumPy's Array):"
   ]
  },
  {
   "cell_type": "code",
   "execution_count": null,
   "metadata": {
    "collapsed": false
   },
   "outputs": [],
   "source": []
  },
  {
   "cell_type": "code",
   "execution_count": null,
   "metadata": {
    "collapsed": false
   },
   "outputs": [],
   "source": []
  },
  {
   "cell_type": "markdown",
   "metadata": {},
   "source": [
    "If you want the full FITs header."
   ]
  },
  {
   "cell_type": "code",
   "execution_count": null,
   "metadata": {
    "collapsed": false
   },
   "outputs": [],
   "source": []
  },
  {
   "cell_type": "markdown",
   "metadata": {},
   "source": [
    "It is one large dictionary. So you can index it the normal way."
   ]
  },
  {
   "cell_type": "code",
   "execution_count": null,
   "metadata": {
    "collapsed": false
   },
   "outputs": [],
   "source": []
  },
  {
   "cell_type": "markdown",
   "metadata": {},
   "source": [
    "Just to show you it is the same for any data source! I will use the test data here."
   ]
  },
  {
   "cell_type": "code",
   "execution_count": null,
   "metadata": {
    "collapsed": true
   },
   "outputs": [],
   "source": []
  },
  {
   "cell_type": "code",
   "execution_count": null,
   "metadata": {
    "collapsed": false
   },
   "outputs": [],
   "source": []
  },
  {
   "cell_type": "markdown",
   "metadata": {},
   "source": [
    "Similar Map-like objects exists for Spectrum data and LightCurve data. Which you will see later today.\n",
    "But right now, some passing mention.\n",
    "\n",
    "First LightCurve!"
   ]
  },
  {
   "cell_type": "code",
   "execution_count": null,
   "metadata": {
    "collapsed": false
   },
   "outputs": [],
   "source": []
  },
  {
   "cell_type": "code",
   "execution_count": null,
   "metadata": {
    "collapsed": false
   },
   "outputs": [],
   "source": []
  },
  {
   "cell_type": "code",
   "execution_count": null,
   "metadata": {
    "collapsed": false
   },
   "outputs": [],
   "source": []
  },
  {
   "cell_type": "markdown",
   "metadata": {},
   "source": [
    "There is a LightCurve in a nutshell. It does have support for Lyra as well.\n",
    "\n",
    "Now Spectrum. Here we will use Callisto and the Callisto image we have locally."
   ]
  },
  {
   "cell_type": "code",
   "execution_count": null,
   "metadata": {
    "collapsed": true
   },
   "outputs": [],
   "source": []
  },
  {
   "cell_type": "code",
   "execution_count": null,
   "metadata": {
    "collapsed": true
   },
   "outputs": [],
   "source": []
  },
  {
   "cell_type": "code",
   "execution_count": null,
   "metadata": {
    "collapsed": false
   },
   "outputs": [],
   "source": []
  },
  {
   "cell_type": "markdown",
   "metadata": {},
   "source": [
    "This is a basic and I want to stress that these are a **basic overview of these three classes.** \n",
    "They will be covered in more detail in the later sessions.\n",
    "\n",
    "But what I can cover in more detail are the following!\n",
    "\n",
    "Have you have loved CGS from the first day you heard about them? Want to leave SI behind? Well I have just the code for you. Just ignore the overly large import statement."
   ]
  },
  {
   "cell_type": "code",
   "execution_count": null,
   "metadata": {
    "collapsed": true
   },
   "outputs": [],
   "source": []
  },
  {
   "cell_type": "markdown",
   "metadata": {},
   "source": [
    "SunPy has a collection of Solar related constants that are normally in SI. \n",
    "\n",
    "This is designed to enable either easier calculations or memory loss.\n"
   ]
  },
  {
   "cell_type": "code",
   "execution_count": null,
   "metadata": {
    "collapsed": false
   },
   "outputs": [],
   "source": []
  },
  {
   "cell_type": "markdown",
   "metadata": {},
   "source": [
    "But you mentioned CGS! Where is my CGS?"
   ]
  },
  {
   "cell_type": "code",
   "execution_count": null,
   "metadata": {
    "collapsed": false
   },
   "outputs": [],
   "source": []
  },
  {
   "cell_type": "markdown",
   "metadata": {},
   "source": [
    "Every constant has the ability to be changed into CGS units at any time.\n",
    "\n",
    "But the important item to mention is mathematics! We can work out density instead of taking the stored value."
   ]
  },
  {
   "cell_type": "code",
   "execution_count": null,
   "metadata": {
    "collapsed": false
   },
   "outputs": [],
   "source": []
  },
  {
   "cell_type": "markdown",
   "metadata": {},
   "source": [
    "As long as the mathematical operation can be carried out, it will be. You can't add a density to a volume."
   ]
  },
  {
   "cell_type": "code",
   "execution_count": null,
   "metadata": {
    "collapsed": false
   },
   "outputs": [],
   "source": []
  },
  {
   "cell_type": "markdown",
   "metadata": {},
   "source": [
    "Not all constants have a short-cut assigned to them (as above). The rest of the constants are stored in a dictionary. The following code grabs the dictionary and gets all of the keys.:"
   ]
  },
  {
   "cell_type": "code",
   "execution_count": null,
   "metadata": {
    "collapsed": false
   },
   "outputs": [],
   "source": []
  },
  {
   "cell_type": "markdown",
   "metadata": {},
   "source": [
    "To find these extra values you can use:"
   ]
  },
  {
   "cell_type": "code",
   "execution_count": null,
   "metadata": {
    "collapsed": false
   },
   "outputs": [],
   "source": []
  },
  {
   "cell_type": "markdown",
   "metadata": {},
   "source": [
    "This unit support comes from AstroPy. So if you require to add units together. You will need to import AstroPy units in order to create your own Mass or Distance unit."
   ]
  },
  {
   "cell_type": "code",
   "execution_count": null,
   "metadata": {
    "collapsed": true
   },
   "outputs": [],
   "source": []
  },
  {
   "cell_type": "markdown",
   "metadata": {},
   "source": [
    "This is the crazy world of AstroPy Units. This fact tells you something:"
   ]
  },
  {
   "cell_type": "code",
   "execution_count": null,
   "metadata": {
    "collapsed": false
   },
   "outputs": [],
   "source": []
  },
  {
   "cell_type": "markdown",
   "metadata": {},
   "source": [
    "This large collection of units allows some really strange unit conversions. But now we can not just say CGS. We have to use a slightly different method."
   ]
  },
  {
   "cell_type": "code",
   "execution_count": null,
   "metadata": {
    "collapsed": false
   },
   "outputs": [],
   "source": []
  },
  {
   "cell_type": "markdown",
   "metadata": {},
   "source": [
    "Pick a random unit of choice!"
   ]
  },
  {
   "cell_type": "code",
   "execution_count": null,
   "metadata": {
    "collapsed": false
   },
   "outputs": [],
   "source": []
  },
  {
   "cell_type": "markdown",
   "metadata": {},
   "source": [
    "But we might not know what this unit is. That is what documentation is for."
   ]
  },
  {
   "cell_type": "code",
   "execution_count": null,
   "metadata": {
    "collapsed": true
   },
   "outputs": [],
   "source": []
  },
  {
   "cell_type": "markdown",
   "metadata": {},
   "source": [
    "Or if you want to just know what this unit is in SI?"
   ]
  },
  {
   "cell_type": "code",
   "execution_count": null,
   "metadata": {
    "collapsed": false
   },
   "outputs": [],
   "source": []
  },
  {
   "cell_type": "markdown",
   "metadata": {},
   "source": [
    "Regardless, if we want to add units together or subtract them. We need to make sure that each number is a unit types"
   ]
  },
  {
   "cell_type": "code",
   "execution_count": null,
   "metadata": {
    "collapsed": false
   },
   "outputs": [],
   "source": []
  },
  {
   "cell_type": "code",
   "execution_count": null,
   "metadata": {
    "collapsed": false
   },
   "outputs": [],
   "source": []
  },
  {
   "cell_type": "markdown",
   "metadata": {},
   "source": [
    "So we have to times the number with the correct unit type."
   ]
  },
  {
   "cell_type": "code",
   "execution_count": null,
   "metadata": {
    "collapsed": false
   },
   "outputs": [],
   "source": []
  },
  {
   "cell_type": "markdown",
   "metadata": {},
   "source": [
    "This has been a simple overview of AstroPy units. IF you want to read more, see http://astropy.readthedocs.org/en/latest/units/.\n",
    "\n",
    "Finally, a brief look over WCS.\n",
    "\n",
    "So WCS stands for World Co-ordinate Systems. It is the mathematical basis of how to transform from any solar co-ordinate system to another. But as Stuart will assure you, the currently in development co-ordinates package (which was demoed at SIPWorks last) will be amazing."
   ]
  },
  {
   "cell_type": "code",
   "execution_count": null,
   "metadata": {
    "collapsed": false
   },
   "outputs": [],
   "source": [
    "import sunpy.wcs as wcs"
   ]
  },
  {
   "cell_type": "markdown",
   "metadata": {},
   "source": [
    "Helioprojective-Cartesian (HPC): The most often used solar coordinate\n",
    "system. Describes positions on the Sun as angles measured from the center of the solar disk (usually in arcseconds) using cartesian coordinates (X, Y)\n",
    "\n",
    "Helioprojective-Radial (HPR): Describes positions on the Sun using angles,\n",
    "similar to HPC, but uses a radial coordinate (rho, psi) system centered on solar disk where psi is measured in the counter clock wise direction.\n",
    "\n",
    "Heliocentric-Cartesian (HCC): The same as HPC but with positions expressed\n",
    "in true (deprojected) physical distances instead of angles on the celestial sphere.\n",
    "\n",
    "Heliocentric-Radial (HCR): The same as HPR but with rho expressed in\n",
    "true (deprojected) physical distances instead of angles on the celestial sphere.\n",
    "\n",
    "Stonyhurst-Heliographic (HG): Expressed positions on the Sun using\n",
    "longitude and latitude on the solar sphere but with the origin which is at the intersection of the solar equator and the central meridian as seen from Earth. This means that the coordinate system remains fixed with respect to Earth while the Sun rotates underneath it.\n",
    "\n",
    "Carrington-Heliographic (HG): Carrington longitude is offset\n",
    "from Stonyhurst longitude by a time-dependent scalar value, L0. At the start of each Carrington rotation, L0 = 360, and steadily decreases until it reaches L0 = 0, at which point the next Carrington rotation starts."
   ]
  }
 ],
 "metadata": {
  "kernelspec": {
   "display_name": "Python 2",
   "language": "python",
   "name": "python2"
  },
  "language_info": {
   "codemirror_mode": {
    "name": "ipython",
    "version": 2
   },
   "file_extension": ".py",
   "mimetype": "text/x-python",
   "name": "python",
   "nbconvert_exporter": "python",
   "pygments_lexer": "ipython2",
   "version": "2.7.9"
  }
 },
 "nbformat": 4,
 "nbformat_minor": 0
}
