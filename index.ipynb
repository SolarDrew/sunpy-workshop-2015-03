{
 "cells": [
  {
   "cell_type": "markdown",
   "metadata": {},
   "source": [
    "<h1 style=\"text-align:center; font-size:50px;\">SunPy Workshop</h1>"
   ]
  },
  {
   "cell_type": "markdown",
   "metadata": {},
   "source": [
    "![SunPy Powered](https://raw.githubusercontent.com/sunpy/sunpy-logo/master/generated/sunpy_powered_500x255.png)"
   ]
  },
  {
   "cell_type": "markdown",
   "metadata": {},
   "source": [
    "Welcome to the SunPy workshop.\n",
    "\n",
    "By the end of these two exceedingly fun days, you should have been exposed to a lot of the cool functionality of Python + SunPy, hopefully you will remember some of it!\n",
    "\n",
    "During the workshop we have this collaborative EtherPad to write notes in or ask questions in the chat https://etherpad.mozilla.org/hElQmb1aru, type your name in the top right hand corner so we know who you are!"
   ]
  },
  {
   "cell_type": "markdown",
   "metadata": {},
   "source": [
    "The two day workshop will follow the following timetable:\n",
    "\n",
    "### Day 1\n",
    "```\n",
    "09:00 - 09:10    Introduction & Welcome\n",
    "09:10 - 10:00    Using SunPy for your Research - Andrew Leonard\n",
    "10:00 - 10:30    Setup time.\n",
    "10:30 - 11:00    Coffee Break\n",
    "11:00 - 12:00    Lesson 1\n",
    "12:00 - 13:00    Lesson 2\n",
    "13:00 - 14:00    Lunch\n",
    "14:00 - 15:00    Lesson 3\n",
    "15:00 - 15:30    Coffee Break\n",
    "15:30 - 16:30    Lesson 4\n",
    "16:30 - 17:30    Overflow time\n",
    "18:00 - 21:00    Group Dinner.\n",
    "```\n",
    "\n",
    "### Day 2\n",
    "\n",
    "```\n",
    "09:00 - 09:30    Reproducible Research Discussion\n",
    "09:30 - 10:30    Lesson 5\n",
    "10:30 - 11:00    Coffee Break\n",
    "11:00 - 12:00    Lesson 6\n",
    "12:00 - 13:00    Lesson 7\n",
    "13:00 - 14:00    Lunch\n",
    "14:00 - 15:00    Lesson 8\n",
    "15:00 - 15:30    Coffee Break\n",
    "15:30 - 16:30    Lesson 9\n",
    "16:30 - 17:00    Questions and Feedback.\n",
    "17:00            EOF\n",
    "```"
   ]
  },
  {
   "cell_type": "markdown",
   "metadata": {},
   "source": [
    "## Research Talk\n",
    "\n",
    "Drew's SunPy research slides can be found **[here.](https://github.com/drewleonard42/sunpy-workshop-2015-03/raw/master/SunPy_for_research.pdf)**"
   ]
  },
  {
   "cell_type": "markdown",
   "metadata": {},
   "source": [
    "##Lessons "
   ]
  },
  {
   "cell_type": "markdown",
   "metadata": {},
   "source": [
    "The following links link to the notes with code:"
   ]
  },
  {
   "cell_type": "markdown",
   "metadata": {},
   "source": [
    "### Day 1\n",
    "\n",
    "1. [Git](http://swcarpentry.github.io/git-novice/)\n",
    "1. [Python 1](02-python-1/Python-1-Instructor-notes.ipynb)\n",
    "1. [Python 2](03-python-2/python_basics_2-instructor.ipynb)\n",
    "1. [NumPy](04-numpy/04-numpy-Instructors-Notes.ipynb)\n",
    "\n",
    "### Day 2\n",
    "\n",
    "1. [Plotting in Python]()\n",
    "1. [Introduction to SunPy](06-sunpy-intro/06-sunpy-intro-instructors-notes.ipynb)\n",
    "1. [Displaying SunPy Data]()\n",
    "1. [Downloading SunPy Data](08-downloading-data/08-downloading-data-instructors-notes.ipynb)\n",
    "1. [Solar Data Processing]()"
   ]
  }
 ],
 "metadata": {
  "kernelspec": {
   "display_name": "Python 2",
   "language": "python",
   "name": "python2"
  },
  "language_info": {
   "codemirror_mode": {
    "name": "ipython",
    "version": 2
   },
   "file_extension": ".py",
   "mimetype": "text/x-python",
   "name": "python",
   "nbconvert_exporter": "python",
   "pygments_lexer": "ipython2",
   "version": "2.7.9"
  }
 },
 "nbformat": 4,
 "nbformat_minor": 0
}
