{
 "metadata": {
  "name": "",
  "signature": "sha256:04900e9f9b64ac751a858ab3291e76d6ba839887e6a580424aef0947e517dcb0"
 },
 "nbformat": 3,
 "nbformat_minor": 0,
 "worksheets": [
  {
   "cells": [
    {
     "cell_type": "heading",
     "level": 1,
     "metadata": {},
     "source": [
      "Processing Solar Data with SunPy"
     ]
    },
    {
     "cell_type": "heading",
     "level": 2,
     "metadata": {},
     "source": [
      "Objectives"
     ]
    },
    {
     "cell_type": "markdown",
     "metadata": {},
     "source": [
      "- Learn how to perform common processing tasks on a Map object\n",
      " - Rebin\n",
      " - Crop\n",
      " - Rotate\n",
      "- Learn how to perform a few processing tasks on LightCurves and Spectra"
     ]
    },
    {
     "cell_type": "heading",
     "level": 2,
     "metadata": {},
     "source": [
      "Working with Maps"
     ]
    },
    {
     "cell_type": "heading",
     "level": 3,
     "metadata": {},
     "source": [
      "Cropping and rebinning Maps"
     ]
    },
    {
     "cell_type": "markdown",
     "metadata": {},
     "source": [
      "So far we have worked mostly with entire Maps, and have simply adjusted the plot limits when we want to look at a particular portion of them. This is inefficient though, since the full data array for the Map is still stored in memory, we're just not looking at it. If we know we won't need this excess data again, we can instead get rid of it entirely by cropping the Map with the `submap()` method.\n",
      "\n",
      "The required input for `submap()` is two lists - one for the x direction and one for the y - which each contain the minimum and maximum extents of the data you want. By default these values are taken to be in data coordinates (usually arcsec), but you can use pixel values instead by setting the `units` keyword to `'pixels'` when calling `submap()`."
     ]
    },
    {
     "cell_type": "code",
     "collapsed": false,
     "input": [
      "# Usual setup and import statements\n",
      "\n",
      "# Create a new AIAMap\n",
      "\n",
      "# Crop to look at something on the limb\n",
      "\n",
      "# Have a quick look\n"
     ],
     "language": "python",
     "metadata": {},
     "outputs": []
    },
    {
     "cell_type": "markdown",
     "metadata": {},
     "source": [
      "The `submap()` function also handles all the necessary changes in the header data so the Map knows that it has been cropped."
     ]
    },
    {
     "cell_type": "markdown",
     "metadata": {},
     "source": [
      "If we don't want to use full-resolution data but we do want to look at the full solar disk, we can use the `.superpixel()` method to rebin the image. This method takes a tuple which indicates how many pixels to combine in each direction. `.superpixel()` will add these pixels together by default, but the `method` keyword allows you to specify that the pixels should be averaged instead. "
     ]
    },
    {
     "cell_type": "code",
     "collapsed": false,
     "input": [],
     "language": "python",
     "metadata": {},
     "outputs": []
    },
    {
     "cell_type": "markdown",
     "metadata": {},
     "source": [
      "Similarly, you can use `.resample()` to resize each pixel. The advantage of this over `.superpixel()` is that the new image can be an arbitrary size, and you can either make it smaller or larger:"
     ]
    },
    {
     "cell_type": "code",
     "collapsed": false,
     "input": [],
     "language": "python",
     "metadata": {},
     "outputs": []
    },
    {
     "cell_type": "heading",
     "level": 3,
     "metadata": {},
     "source": [
      "Rotating Maps"
     ]
    },
    {
     "cell_type": "markdown",
     "metadata": {},
     "source": [
      "It is not uncommon to need to rotate an image. You may want to look at a feature in a particular way, or you may need to account for the rotation of the instrument. Either way, this can be achieved with the `Map.rotate()` method, which does exactly what you would expect it to do. It can be passed a number of degrees or a rotation matrix (or neither - we'll get to that in a minute) and it will return a new Map which is a copy of the old one but rotated by the appropriate amount (anti-clockwise if degrees are specified). Again, all the relevant header data is updated when you `rotate()` a Map.\n",
      "\n",
      "Take the image above for example. This plot is fine, but would look a bit neater if the feature were the right way up. So we can rotate the Map like this:"
     ]
    },
    {
     "cell_type": "code",
     "collapsed": false,
     "input": [
      "# Rotate the feature upright and replot it\n"
     ],
     "language": "python",
     "metadata": {},
     "outputs": []
    },
    {
     "cell_type": "markdown",
     "metadata": {},
     "source": [
      "Notice that rotating an already cropped Map has caused patches of missing data within our new plot. Really we should have rotated the data first and then cropped it, to avoid this problem."
     ]
    },
    {
     "cell_type": "code",
     "collapsed": false,
     "input": [
      "# Rotate the original Map first\n",
      "\n",
      "# Then crop it - note that the data coordinates have changed!\n",
      "\n",
      "# Have a quick look\n"
     ],
     "language": "python",
     "metadata": {},
     "outputs": []
    },
    {
     "cell_type": "markdown",
     "metadata": {},
     "source": [
      "Every Map instance has a rotation matrix in the metdata which defines the current rotation of the image, and which is updated whenever `rotate()` is called. If `rotate()` is called without any input, it will revert to its default behaviour, which is to account for that rotation. This means that we can easily reverse the rotation we applied to our image in the previous example:"
     ]
    },
    {
     "cell_type": "code",
     "collapsed": false,
     "input": [],
     "language": "python",
     "metadata": {},
     "outputs": []
    },
    {
     "cell_type": "markdown",
     "metadata": {},
     "source": [
      "The initial value of the metadata's rotation matrix describes the instrument rotation. This means that we can also use `rotate()` to offset that. The example needs to be a little more extreme to demonstrate this..."
     ]
    },
    {
     "cell_type": "code",
     "collapsed": false,
     "input": [
      "# Create a new AIAMap\n",
      "\n",
      "# Account for instrument rotation\n"
     ],
     "language": "python",
     "metadata": {},
     "outputs": []
    },
    {
     "cell_type": "markdown",
     "metadata": {},
     "source": [
      "##Working with LightCurves"
     ]
    },
    {
     "cell_type": "markdown",
     "metadata": {},
     "source": [
      "### Analysing LightCurve data"
     ]
    },
    {
     "cell_type": "markdown",
     "metadata": {},
     "source": [
      "Let's see how well the LYRA lightcurves correlate with each other. For this, we need to use functions in numpy."
     ]
    },
    {
     "cell_type": "code",
     "collapsed": false,
     "input": [],
     "language": "python",
     "metadata": {},
     "outputs": []
    },
    {
     "cell_type": "markdown",
     "metadata": {},
     "source": [
      "We can find the point in time of maximum emission for each channel, and compare it with the maximum in the GOES long (1-8A) and short (0.5-4A) channel emission."
     ]
    },
    {
     "cell_type": "code",
     "collapsed": false,
     "input": [],
     "language": "python",
     "metadata": {},
     "outputs": []
    },
    {
     "cell_type": "markdown",
     "metadata": {},
     "source": [
      "We can see that the GOES short channel peaks first at 06:39:00, followed by the GOES long channel at 06:41:24, while the LYRA emission peaks later at around 06:44:45. We could add this information to our plot like this:"
     ]
    },
    {
     "cell_type": "code",
     "collapsed": false,
     "input": [],
     "language": "python",
     "metadata": {},
     "outputs": []
    },
    {
     "cell_type": "heading",
     "level": 2,
     "metadata": {},
     "source": [
      "Working with Spectrums"
     ]
    },
    {
     "cell_type": "markdown",
     "metadata": {},
     "source": [
      "SunPy currently supports reading dynamic spectra from e-Callisto instruments. The main class that is used for this is CallistoSpectrogram. SunPy also comes with an example image that shows a radio burst observed at Rosse Observatory (aka. BIR; Birr Castle, Co. Offaly, Ireland) that can be found in sunpy.CALLISTO_IMAGE:"
     ]
    },
    {
     "cell_type": "code",
     "collapsed": false,
     "input": [],
     "language": "python",
     "metadata": {},
     "outputs": []
    },
    {
     "cell_type": "markdown",
     "metadata": {},
     "source": [
      "We now notice that there seems to be something interesting that has been cut off at the corner of the image, so we use the extend method to request more data from the server. It optionally takes the amount of minutes we want to request from the server (negative values mean we want to add data that was registered before our existing local data), if none are given it defaults to 15 minutes (the size of one e-Callisto file).:"
     ]
    },
    {
     "cell_type": "code",
     "collapsed": false,
     "input": [],
     "language": "python",
     "metadata": {},
     "outputs": []
    },
    {
     "cell_type": "markdown",
     "metadata": {},
     "source": [
      "We will, for the purposes of this demonstration, continue working with the original image, though.\n",
      "\n",
      "You can then perform automatic constant background subtraction by using the subtract_bg() method. The resulting image will be clipped at 0 using the min parameter of peek in order to avoid negative values.:"
     ]
    },
    {
     "cell_type": "code",
     "collapsed": false,
     "input": [],
     "language": "python",
     "metadata": {},
     "outputs": []
    },
    {
     "cell_type": "markdown",
     "metadata": {},
     "source": [
      "Now let us say we want to isolate the interesting bit (which starts around 10:38) from the boring background; there is a method called in_interval() that allows us to take the part of an image that is within a specified interval. Leaving out the second argument it defaults to the end time of the file.:"
     ]
    },
    {
     "cell_type": "code",
     "collapsed": false,
     "input": [],
     "language": "python",
     "metadata": {},
     "outputs": []
    },
    {
     "cell_type": "markdown",
     "metadata": {},
     "source": [
      "To get rid of the noise, we could also clip low intensities.:"
     ]
    },
    {
     "cell_type": "code",
     "collapsed": false,
     "input": [],
     "language": "python",
     "metadata": {},
     "outputs": []
    },
    {
     "cell_type": "markdown",
     "metadata": {},
     "source": [
      "<div style='background:#B1E0A8; padding:10px 10px 10px 10px;'>\n",
      "<h2>Challenges</h2>\n",
      "<ol>\n",
      " <li>Load any of the SunPy test image files. Rotate the resulting Map clockwise by 45 degrees.</li>\n",
      " <li>Crop your rotated image to look at an interesting feature of your choice.</li>\n",
      " <li>Adjust the resolution of your original image using either .superpixel() or .resample()</li>\n",
      "</ol>\n",
      "\n",
      "Display the result for each challenge.\n",
      "</div>"
     ]
    }
   ],
   "metadata": {}
  }
 ]
}