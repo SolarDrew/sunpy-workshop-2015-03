{
 "metadata": {
  "name": "",
  "signature": "sha256:cd702899c232ccbc63d497651e861023df0a1dd112a5d94f9f10575619031dc4"
 },
 "nbformat": 3,
 "nbformat_minor": 0,
 "worksheets": [
  {
   "cells": [
    {
     "cell_type": "markdown",
     "metadata": {},
     "source": [
      "Basic Map processing\n",
      "- diff rot? I assume there\u2019s a nice function that does this? not something I need myself\n",
      "- rotate, rescale, similar transformations\n",
      "- submap\n",
      "\n",
      "Similar topics for LightCurve and Spectrum? not sure how much processing they typically require"
     ]
    },
    {
     "cell_type": "heading",
     "level": 1,
     "metadata": {},
     "source": [
      "Processing Solar Data with SunPy"
     ]
    },
    {
     "cell_type": "heading",
     "level": 2,
     "metadata": {},
     "source": [
      "Working with Maps"
     ]
    },
    {
     "cell_type": "heading",
     "level": 2,
     "metadata": {},
     "source": [
      "Cropping and rebinning Maps"
     ]
    },
    {
     "cell_type": "heading",
     "level": 3,
     "metadata": {},
     "source": [
      "Rotating Maps"
     ]
    },
    {
     "cell_type": "markdown",
     "metadata": {},
     "source": [
      "It is not uncommon to need to rotate an image. You may want to look at a feature in a particular way, or you may need to account for the rotation of the instrument. Either way, this can be achieved with the `Map.rotate()` method, which does exactly what you would expect it to do. It can be passed a number of degrees or a rotation matrix (or neither - we'll get to that in a minute) and it will return a new Map which is a copy of the old one but rotated by the appropriate amount (anti-clockwise if degrees are specified)."
     ]
    },
    {
     "cell_type": "code",
     "collapsed": false,
     "input": [
      "# Usual setup and import statements\n",
      "%matplotlib inline\n",
      "import sunpy\n",
      "import sunpy.map\n",
      "import matplotlib.pyplot as plt\n",
      "\n",
      "# Create a new AIAMap\n",
      "aiamap = sunpy.map.Map(\"rotate_demo1.fits\")\n",
      "# Crop to look at something on the limb\n",
      "cropped = aiamap.submap([450, 750], [-1000, -700])\n",
      "# Have a quick look\n",
      "cropped.peek(vmax=400)"
     ],
     "language": "python",
     "metadata": {},
     "outputs": []
    },
    {
     "cell_type": "markdown",
     "metadata": {},
     "source": [
      "This plot is fine, but would look a bit neater if the feature were the right way up. So we can rotate the Map like this:"
     ]
    },
    {
     "cell_type": "code",
     "collapsed": false,
     "input": [
      "# Rotate the feature upright and replot it\n",
      "rotated = cropped.rotate(145)\n",
      "rotated.peek(vmax=400)"
     ],
     "language": "python",
     "metadata": {},
     "outputs": []
    },
    {
     "cell_type": "markdown",
     "metadata": {},
     "source": [
      "Notice that rotating an already cropped Map has caused patches of missing data within our new plot. Really we should have rotated the data first and then cropped it, to avoid this problem."
     ]
    },
    {
     "cell_type": "code",
     "collapsed": false,
     "input": [
      "# Rotate the original Map first\n",
      "rotated = aiamap.rotate(145)\n",
      "# Then crop it - note that the data coordinates have changed!\n",
      "cropped = rotated.submap([-150, 150], [900, 1200])\n",
      "# Have a quick look\n",
      "cropped.peek(vmax=400)"
     ],
     "language": "python",
     "metadata": {},
     "outputs": []
    },
    {
     "cell_type": "markdown",
     "metadata": {},
     "source": [
      "Every Map instance has a rotation matrix in the metdata which defines the current rotation of the image, and which is updated whenever `rotate()` is called. If `rotate()` is called without any input, it will revert to its default behaviour, which is to account for that rotation. This means that we can easily reverse the rotation we applied to our image in the previous example:"
     ]
    },
    {
     "cell_type": "code",
     "collapsed": false,
     "input": [
      "unrotated = rotated.rotate()\n",
      "unrotated.peek()"
     ],
     "language": "python",
     "metadata": {},
     "outputs": []
    },
    {
     "cell_type": "markdown",
     "metadata": {},
     "source": [
      "The initial value of the metadata's rotation matrix describes the instrument rotation. This means that we can also use `rotate()` to offset that. The example needs to be a little more extreme to demonstrate this..."
     ]
    },
    {
     "cell_type": "code",
     "collapsed": false,
     "input": [
      "# Create a new AIAMap\n",
      "aiamap = sunpy.map.Map(\"rotate_demo2.fits\")\n",
      "# Account for instrument rotation\n",
      "aiamap = aiamap.rotate()\n",
      "aiamap.peek()"
     ],
     "language": "python",
     "metadata": {},
     "outputs": []
    },
    {
     "cell_type": "code",
     "collapsed": false,
     "input": [],
     "language": "python",
     "metadata": {},
     "outputs": []
    }
   ],
   "metadata": {}
  }
 ]
}