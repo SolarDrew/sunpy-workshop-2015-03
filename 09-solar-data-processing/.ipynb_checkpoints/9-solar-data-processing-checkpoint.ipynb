{
 "metadata": {
  "name": "",
  "signature": "sha256:61d5a066115f0572d5f67647609040d14eb5262620fcdd3019ea6e76114972f4"
 },
 "nbformat": 3,
 "nbformat_minor": 0,
 "worksheets": [
  {
   "cells": [
    {
     "cell_type": "heading",
     "level": 1,
     "metadata": {},
     "source": [
      "Processing Solar Data with SunPy"
     ]
    },
    {
     "cell_type": "heading",
     "level": 2,
     "metadata": {},
     "source": [
      "Working with Maps"
     ]
    },
    {
     "cell_type": "heading",
     "level": 3,
     "metadata": {},
     "source": [
      "Cropping and rebinning Maps"
     ]
    },
    {
     "cell_type": "markdown",
     "metadata": {},
     "source": [
      "So far we have worked mostly with entire Maps, and have simply adjusted the plot limits when we want to look at a particular portion of them. This is inefficient though, since the full data array for the Map is still stored in memory, we're just not looking at it. If we know we won't need this excess data again, we can instead get rid of it entirely by cropping the Map with the `submap()` method.\n",
      "\n",
      "The required input for `submap()` is two lists - one for the x direction and one for the y - which each contain the minimum and maximum extents of the data you want. By default these values are taken to be in data coordinates (usually arcsec), but you can use pixel values instead by setting the `units` keyword to `'pixels'` when calling `submap()`."
     ]
    },
    {
     "cell_type": "code",
     "collapsed": false,
     "input": [
      "# Usual setup and import statements\n",
      "%matplotlib inline\n",
      "import sunpy\n",
      "import sunpy.map\n",
      "import matplotlib.pyplot as plt\n",
      "\n",
      "# Create a new AIAMap\n",
      "aiamap = sunpy.map.Map(\"rotate_demo1.fits\")\n",
      "# Crop to look at something on the limb\n",
      "#cropped = aiamap.submap([450, 750], [-1000, -700])\n",
      "cropped = aiamap.submap([2820, 3332], [300, 812], units='pixels')\n",
      "# Have a quick look\n",
      "cropped.peek(vmax=400)"
     ],
     "language": "python",
     "metadata": {},
     "outputs": []
    },
    {
     "cell_type": "heading",
     "level": 3,
     "metadata": {},
     "source": [
      "Rotating Maps"
     ]
    },
    {
     "cell_type": "markdown",
     "metadata": {},
     "source": [
      "It is not uncommon to need to rotate an image. You may want to look at a feature in a particular way, or you may need to account for the rotation of the instrument. Either way, this can be achieved with the `Map.rotate()` method, which does exactly what you would expect it to do. It can be passed a number of degrees or a rotation matrix (or neither - we'll get to that in a minute) and it will return a new Map which is a copy of the old one but rotated by the appropriate amount (anti-clockwise if degrees are specified).\n",
      "\n",
      "Take the image above for example. This plot is fine, but would look a bit neater if the feature were the right way up. So we can rotate the Map like this:"
     ]
    },
    {
     "cell_type": "code",
     "collapsed": false,
     "input": [
      "# Rotate the feature upright and replot it\n",
      "rotated = cropped.rotate(145)\n",
      "rotated.peek(vmax=400)"
     ],
     "language": "python",
     "metadata": {},
     "outputs": []
    },
    {
     "cell_type": "markdown",
     "metadata": {},
     "source": [
      "Notice that rotating an already cropped Map has caused patches of missing data within our new plot. Really we should have rotated the data first and then cropped it, to avoid this problem."
     ]
    },
    {
     "cell_type": "code",
     "collapsed": false,
     "input": [
      "# Rotate the original Map first\n",
      "rotated = aiamap.rotate(145)\n",
      "# Then crop it - note that the data coordinates have changed!\n",
      "cropped = rotated.submap([-150, 150], [900, 1200])\n",
      "# Have a quick look\n",
      "cropped.peek(vmax=400)"
     ],
     "language": "python",
     "metadata": {},
     "outputs": []
    },
    {
     "cell_type": "markdown",
     "metadata": {},
     "source": [
      "Every Map instance has a rotation matrix in the metdata which defines the current rotation of the image, and which is updated whenever `rotate()` is called. If `rotate()` is called without any input, it will revert to its default behaviour, which is to account for that rotation. This means that we can easily reverse the rotation we applied to our image in the previous example:"
     ]
    },
    {
     "cell_type": "code",
     "collapsed": false,
     "input": [
      "unrotated = rotated.rotate()\n",
      "unrotated.peek()"
     ],
     "language": "python",
     "metadata": {},
     "outputs": []
    },
    {
     "cell_type": "markdown",
     "metadata": {},
     "source": [
      "The initial value of the metadata's rotation matrix describes the instrument rotation. This means that we can also use `rotate()` to offset that. The example needs to be a little more extreme to demonstrate this..."
     ]
    },
    {
     "cell_type": "code",
     "collapsed": false,
     "input": [
      "# Create a new AIAMap\n",
      "aiamap = sunpy.map.Map(\"rotate_demo2.fits\")\n",
      "# Account for instrument rotation\n",
      "aiamap = aiamap.rotate()\n",
      "aiamap.peek()"
     ],
     "language": "python",
     "metadata": {},
     "outputs": []
    },
    {
     "cell_type": "heading",
     "level": 3,
     "metadata": {},
     "source": [
      "Differential rotation"
     ]
    }
   ],
   "metadata": {}
  }
 ]
}