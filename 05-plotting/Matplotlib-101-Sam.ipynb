{
 "cells": [
  {
   "cell_type": "markdown",
   "metadata": {},
   "source": [
    "#Introduction to Matplotlib\n",
    "Matplotlib is a python 2D plotting library. It is capable of immensely detailed and rendered figures. Its self proffessed goal is to make the esy things easy and the hard things possible.\n",
    "\n",
    "##Objectives\n",
    "\n",
    "* Create a figure\n",
    "* Creating Subplots within your figures\n",
    "* Be able to plot basic line and bar plots\n",
    "* Prettyfy your graphs\n",
    "\n",
    "\n",
    "##Importing matplotlib\n",
    "As we covered yesterday we can import packages to increase the power of Python tenfold in the case of matplot lib we specifically need the pyplot module of matplotlib. We will also need numpy so import that too."
   ]
  },
  {
   "cell_type": "code",
   "execution_count": null,
   "metadata": {
    "collapsed": true
   },
   "outputs": [],
   "source": [
    "import matplotlib.pyplot as plt\n",
    "import numpy as np"
   ]
  },
  {
   "cell_type": "markdown",
   "metadata": {},
   "source": [
    "Importing the package as plt is a time saver, it allows us to use matplotlib quickly and efficiently.\n",
    "\n",
    "##Figures and subplots\n",
    "The figure is the enviroment in which you create your plots. Within this figure you create subplots in which to plot your data. Lets begin with figure.\n",
    "\n",
    "`figure()` doesn't require any key word arguments. But you can define the size (fisize = (width, height)), resolution (dpi = integer) and the face and egde colours.\n",
    "\n",
    "`show()` will then display what is currently in the figure. \n",
    "\n",
    "Regading the use of IPython, we can force Matplotlib to \"inline\" *i.e,* embed the images directly into the notebook.\n",
    "Using this command **%matplotlib inline**. But for now, we will have these figures exist in their own figure."
   ]
  },
  {
   "cell_type": "code",
   "execution_count": null,
   "metadata": {
    "collapsed": false
   },
   "outputs": [],
   "source": [
    "plt.figure()\n",
    "plt.show()"
   ]
  },
  {
   "cell_type": "markdown",
   "metadata": {},
   "source": [
    "Then we can colour it in"
   ]
  },
  {
   "cell_type": "code",
   "execution_count": null,
   "metadata": {
    "collapsed": false
   },
   "outputs": [],
   "source": [
    "fig = plt.figure(facecolor='black', edgecolor='yellow')\n",
    "plt.show()"
   ]
  },
  {
   "cell_type": "markdown",
   "metadata": {},
   "source": [
    "Subplots are created within the figure and is where yon axis is located. `subplot()` takes 3 arguments, numRows - number of rows of subplot, numCols - number of subplots in each row, plotNum - position of this subplot counting columns then rows.\n",
    "\n",
    "It also takes 3 keyword agruments (kwargs); axisbg = 'color' - sets the background colour of the subplot, polar = [True/False], projection = 'name' - changes the subplot to the named projection eg '3d'"
   ]
  },
  {
   "cell_type": "code",
   "execution_count": null,
   "metadata": {
    "collapsed": true
   },
   "outputs": [],
   "source": [
    "fig1 = plt.figure()\n",
    "ax1 = plt.subplot(211, axisbg = 'r')\n",
    "ax2 = plt.subplot(212, axisbg = 'y')\n",
    "plt.show()"
   ]
  },
  {
   "cell_type": "markdown",
   "metadata": {},
   "source": [
    "Using some of the funky projections"
   ]
  },
  {
   "cell_type": "code",
   "execution_count": null,
   "metadata": {
    "collapsed": false
   },
   "outputs": [],
   "source": [
    "fig2 = plt.figure()\n",
    "ax1 = plt.subplot(221)\n",
    "ax2 = plt.subplot(222, projection = u'lambert')\n",
    "ax3 = plt.subplot(223, polar = True)\n",
    "ax4 = plt.subplot(224)\n",
    "plt.show()"
   ]
  },
  {
   "cell_type": "markdown",
   "metadata": {},
   "source": [
    "##Plotting\n",
    "The simplest form of plotting is plot(), which draws a line, or set of markers, through the given data set. So lets get started with a basic line graph"
   ]
  },
  {
   "cell_type": "code",
   "execution_count": null,
   "metadata": {
    "collapsed": false
   },
   "outputs": [],
   "source": [
    "points = '24599742'\n",
    "point_list = map(float,list(points))\n",
    "fig3 = plt.figure()\n",
    "plt.plot(point_list)\n",
    "plt.show()\n",
    "print point_list"
   ]
  },
  {
   "cell_type": "markdown",
   "metadata": {},
   "source": [
    "<div style='background:#B1E0A8; padding:10px 10px 10px 10px;'>\n",
    "<h2>Challenge</h2>\n",
    "<ol>\n",
    "<li>Use the knowledge we gained yestersay to write a `for` loop which creates a list of temperatures and convertes them to the opposite one. You should end up with two lists of numbers.</li>\n",
    "<li>Then plot these two lists against each other.</li>\n",
    "</div>"
   ]
  },
  {
   "cell_type": "code",
   "execution_count": null,
   "metadata": {
    "collapsed": false
   },
   "outputs": [],
   "source": [
    "F = range(-50, 100)\n",
    "C = []\n",
    "for i in F:\n",
    "    temp = (i - 32.0)*(5.0/9.0)\n",
    "    C.append(temp)\n",
    "print C\n",
    "\n",
    "fig6 = plt.figure()\n",
    "plt.plot(F,C, 'o')\n",
    "plt.show()"
   ]
  },
  {
   "cell_type": "markdown",
   "metadata": {},
   "source": [
    "Now lets have a look at bar graphs, they are somewhat more involved. We need to define the number of bars, how wide they are and the data itself, obviously.\n",
    "The indices can be calculated using the length of our data set, the width we can arbitrarily define and we will use the points from the line graph"
   ]
  },
  {
   "cell_type": "code",
   "execution_count": null,
   "metadata": {
    "collapsed": false
   },
   "outputs": [],
   "source": [
    "fig4 = plt.figure()\n",
    "ind = np.arange(len(point_list))\n",
    "width = 0.5\n",
    "plt.bar(ind, point_list, width)\n",
    "plt.show()"
   ]
  },
  {
   "cell_type": "markdown",
   "metadata": {},
   "source": [
    "###Overplotting\n",
    "We can mash things on top each other on the same axes, merely plot within the same figure. We can also improve the attractiveness with labels."
   ]
  },
  {
   "cell_type": "code",
   "execution_count": null,
   "metadata": {
    "collapsed": true
   },
   "outputs": [],
   "source": [
    "fig5 = plt.figure()\n",
    "plt.bar(ind,point_list, width, )\n",
    "plt.plot(point_list)\n",
    "plt.title('Bars and Lines')\n",
    "plt.xlabel('Positions')\n",
    "plt.ylabel('Counts')\n",
    "plt.show()"
   ]
  },
  {
   "cell_type": "markdown",
   "metadata": {
    "collapsed": true
   },
   "source": [
    "###Plotting some lines\n",
    "Now lets plot some maths and mess around with the lines and figure.\n",
    "Lets define some lines first."
   ]
  },
  {
   "cell_type": "code",
   "execution_count": null,
   "metadata": {
    "collapsed": true
   },
   "outputs": [],
   "source": [
    "x = range(-10,10,1)\n",
    "x2, x3 = [val**2 for val in x], [val**3 for val in x]"
   ]
  },
  {
   "cell_type": "markdown",
   "metadata": {},
   "source": [
    "##imread and imshow\n",
    "Reading in an image is an essential part of our craft.\n",
    "\n",
    "Matplotlib out of the box only suppports PNG files"
   ]
  },
  {
   "cell_type": "code",
   "execution_count": null,
   "metadata": {
    "collapsed": false
   },
   "outputs": [],
   "source": [
    "!ls"
   ]
  },
  {
   "cell_type": "code",
   "execution_count": null,
   "metadata": {
    "collapsed": false
   },
   "outputs": [],
   "source": [
    "data = plt.imread('data.png')"
   ]
  },
  {
   "cell_type": "markdown",
   "metadata": {},
   "source": [
    "So the file has been read and added to the variable. The output is a NumPy 2D array."
   ]
  },
  {
   "cell_type": "code",
   "execution_count": null,
   "metadata": {
    "collapsed": false
   },
   "outputs": [],
   "source": [
    "data.shape"
   ]
  },
  {
   "cell_type": "markdown",
   "metadata": {},
   "source": [
    "Now let us display this image.\n",
    "\n",
    "For this, imshow is used. It is a function within matplotlib but was designed with photopgray in mind."
   ]
  },
  {
   "cell_type": "code",
   "execution_count": null,
   "metadata": {
    "collapsed": false
   },
   "outputs": [],
   "source": [
    "plt.imshow(data)\n",
    "plt.show()"
   ]
  },
  {
   "cell_type": "markdown",
   "metadata": {},
   "source": [
    "Oh god. What is it?\n",
    "\n",
    "That is not the right colour!"
   ]
  },
  {
   "cell_type": "code",
   "execution_count": null,
   "metadata": {
    "collapsed": false
   },
   "outputs": [],
   "source": [
    "plt.imshow(data, cmap='gray')\n",
    "plt.show()"
   ]
  },
  {
   "cell_type": "markdown",
   "metadata": {},
   "source": [
    "So much clearer. This is the solar surface. A decaying small active region taken with the Swedish Solar Telescope.\n",
    "\n",
    "What you might not know is that the image is upside down."
   ]
  },
  {
   "cell_type": "code",
   "execution_count": null,
   "metadata": {
    "collapsed": true
   },
   "outputs": [],
   "source": [
    "plt.imshow(data, cmap='gray', origin='lower')\n",
    "plt.show()"
   ]
  },
  {
   "cell_type": "markdown",
   "metadata": {},
   "source": [
    "The axes are in pixel co-ordinates. We can change that. \n",
    "The imshow command takes an extent keyword arugmeent that scales the axis to the specified range. "
   ]
  },
  {
   "cell_type": "code",
   "execution_count": null,
   "metadata": {
    "collapsed": true
   },
   "outputs": [],
   "source": [
    "extent = [0,1,0,1]"
   ]
  },
  {
   "cell_type": "code",
   "execution_count": null,
   "metadata": {
    "collapsed": false
   },
   "outputs": [],
   "source": [
    "plt.imshow(data, cmap='gray', origin='lower', extent = extent)\n",
    "plt.show()"
   ]
  },
  {
   "cell_type": "markdown",
   "metadata": {},
   "source": [
    "Not quite arc-secs or KM however."
   ]
  },
  {
   "cell_type": "code",
   "execution_count": null,
   "metadata": {
    "collapsed": true
   },
   "outputs": [],
   "source": [
    "extent = [0,0.059*data.shape[0],0,0.059*data.shape[1]]"
   ]
  },
  {
   "cell_type": "code",
   "execution_count": null,
   "metadata": {
    "collapsed": true
   },
   "outputs": [],
   "source": [
    "plt.imshow(data, cmap='gray', origin='lower', extent = extent)\n",
    "plt.show()"
   ]
  },
  {
   "cell_type": "markdown",
   "metadata": {},
   "source": [
    "<div style='background:#B1E0A8; padding:10px 10px 10px 10px;'>\n",
    "<h2>Challenges</h2>\n",
    "<ol>\n",
    "<li> Recreate this plot with a colourmap of your choice. Title the axes. Add a colourbar. </li>\n",
    "<li> Then save out this figure to your local directory. </li>\n",
    "</div>"
   ]
  },
  {
   "cell_type": "markdown",
   "metadata": {},
   "source": [
    "## Solution 1"
   ]
  },
  {
   "cell_type": "code",
   "execution_count": null,
   "metadata": {
    "collapsed": false
   },
   "outputs": [],
   "source": [
    "plt.figure()\n",
    "plt.imshow(data, cmap='cubehelix', origin='lower', extent=extent)\n",
    "plt.title('The Photosphere')\n",
    "plt.xlabel('Distance (Arcsec)')\n",
    "plt.ylabel('Distance (Arcsec)')\n",
    "plt.colorbar()\n",
    "plt.show()"
   ]
  },
  {
   "cell_type": "markdown",
   "metadata": {},
   "source": [
    "## Solution 2"
   ]
  },
  {
   "cell_type": "code",
   "execution_count": null,
   "metadata": {
    "collapsed": true
   },
   "outputs": [],
   "source": [
    "# Either save from the figure or commandline.\n",
    "plt.savefig('the_sun.pdf',dpi=300)"
   ]
  },
  {
   "cell_type": "markdown",
   "metadata": {},
   "source": [
    "## Pretty Plots\n",
    "\n",
    "Just wanted to show you what was possible if you have some time using Python, Matplotlib and SunPy."
   ]
  },
  {
   "cell_type": "code",
   "execution_count": null,
   "metadata": {
    "collapsed": false
   },
   "outputs": [],
   "source": [
    "!ls"
   ]
  },
  {
   "cell_type": "code",
   "execution_count": null,
   "metadata": {
    "collapsed": false
   },
   "outputs": [],
   "source": [
    "!python2 aia_all.py"
   ]
  },
  {
   "cell_type": "markdown",
   "metadata": {},
   "source": [
    "##Animations\n",
    "You can animate your graphs. First things first, we need to import Animate."
   ]
  },
  {
   "cell_type": "code",
   "execution_count": null,
   "metadata": {
    "collapsed": true
   },
   "outputs": [],
   "source": [
    "import matplotlib.animation as an"
   ]
  },
  {
   "cell_type": "markdown",
   "metadata": {},
   "source": [
    "We're going estimate pi via the monte carlo method and we're going to plot it as an animation"
   ]
  },
  {
   "cell_type": "code",
   "execution_count": null,
   "metadata": {
    "collapsed": true
   },
   "outputs": [],
   "source": [
    "import numpy as np\n",
    "import matplotlib.pyplot as plt\n",
    "import matplotlib.animation as animation\n",
    "\n",
    "fig, ax = plt.subplots()\n",
    "line, = ax.plot(np.random.rand(10))\n",
    "ax.set_ylim(0, 1)\n",
    "\n",
    "def update(data):\n",
    "    line.set_ydata(data)\n",
    "    return line,\n",
    "\n",
    "def data_gen():\n",
    "    while True: yield np.random.rand(10)\n",
    "\n",
    "ani = animation.FuncAnimation(fig, update, data_gen, interval=100)\n",
    "plt.show()"
   ]
  }
 ],
 "metadata": {
  "kernelspec": {
   "display_name": "Python 2",
   "language": "python",
   "name": "python2"
  },
  "language_info": {
   "codemirror_mode": {
    "name": "ipython",
    "version": 2
   },
   "file_extension": ".py",
   "mimetype": "text/x-python",
   "name": "python",
   "nbconvert_exporter": "python",
   "pygments_lexer": "ipython2",
   "version": "2.7.8"
  }
 },
 "nbformat": 4,
 "nbformat_minor": 0
}
