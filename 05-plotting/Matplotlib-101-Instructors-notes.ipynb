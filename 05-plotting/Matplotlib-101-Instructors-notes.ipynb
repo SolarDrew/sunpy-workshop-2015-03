{
 "cells": [
  {
   "cell_type": "markdown",
   "metadata": {},
   "source": [
    "# Introduction to Matplotlib\n",
    "\n",
    "Matplotlib is a Python 2D plotting library. It is capable of immensely detailed figures. Its self professed goal is to make the easy things easy and the hard things possible.\n",
    "\n",
    "## Objectives\n",
    "\n",
    "* Create a figure\n",
    "* Creating Subplots within your figures\n",
    "* Be able to create basic plots\n",
    "* Label our plots\n",
    "* Image Plotting\n",
    "\n",
    "## Importing MatPlotLib\n",
    "\n",
    "As we covered yesterday we can import packages to increase the usefulness of Python. In the case of MatPlotLib, it enables the creation of graphs (similar in style to MatLab). We specifically need the PyPlot module within MatPlotLib. We will also need NumPy."
   ]
  },
  {
   "cell_type": "code",
   "execution_count": null,
   "metadata": {
    "collapsed": true
   },
   "outputs": [],
   "source": [
    "import matplotlib.pyplot as plt\n",
    "import numpy as np"
   ]
  },
  {
   "cell_type": "markdown",
   "metadata": {},
   "source": [
    "Importing pyplot as plt is a time saver, it allows us to use the plotting commands quickly and efficiently.\n",
    "\n",
    "## Figures and subplots\n",
    "The figure is the environment in which you create your plots. Within this figure, you create subplots in which to plot your data. Lets begin with figure.\n",
    "\n",
    "`figure()` doesn't require any key word arguments. But you can define the size (figsize = (width, height)), resolution (dpi = integer) and the face and edge colors.\n",
    "\n",
    "`show()` will then display what is currently in the figure. \n",
    "\n",
    "Regarding the use of IPython, we can force Matplotlib to \"inline\" *i.e,* embed the images directly into the notebook. Using this command **%matplotlib inline**. But for now, we will have these figures exist outside of IPython."
   ]
  },
  {
   "cell_type": "code",
   "execution_count": null,
   "metadata": {
    "collapsed": false
   },
   "outputs": [],
   "source": [
    "plt.figure()\n",
    "plt.show()"
   ]
  },
  {
   "cell_type": "markdown",
   "metadata": {},
   "source": [
    "Then we can color the background,"
   ]
  },
  {
   "cell_type": "code",
   "execution_count": null,
   "metadata": {
    "collapsed": false
   },
   "outputs": [],
   "source": [
    "fig = plt.figure(facecolor='black', edgecolor='yellow')\n",
    "plt.show()"
   ]
  },
  {
   "cell_type": "markdown",
   "metadata": {},
   "source": [
    "Subplots are created within the figure and is where axes  are located. `subplot()` takes 3 arguments, numRows - number of rows of subplot, numCols - number of subplots in each row, plotNum - position of this subplot counting columns then rows.\n",
    "\n",
    "It also takes 3 keyword arguments (kwargs); axisbg = 'color' - sets the background color of the subplot, polar = [True/False], projection = 'name' - changes the subplot to the named projection eg '3D'."
   ]
  },
  {
   "cell_type": "code",
   "execution_count": null,
   "metadata": {
    "collapsed": true
   },
   "outputs": [],
   "source": [
    "fig1 = plt.figure()\n",
    "ax1 = plt.subplot(211, axisbg = 'r')\n",
    "ax2 = plt.subplot(212, axisbg = 'y')\n",
    "plt.show()"
   ]
  },
  {
   "cell_type": "markdown",
   "metadata": {},
   "source": [
    "And using subplots instead."
   ]
  },
  {
   "cell_type": "code",
   "execution_count": null,
   "metadata": {
    "collapsed": false
   },
   "outputs": [],
   "source": [
    "x  = range(1,10)\n",
    "fig, ax = plt.subplots(2,2)\n",
    "ax[0,0].plot(x, x)\n",
    "ax[0,1].plot(x, [var**2 for var in x])\n",
    "ax[1,0].plot(x, [var**3 for var in x])\n",
    "ax[1,1].plot(x, [var**4 for var in x])\n",
    "plt.show()"
   ]
  },
  {
   "cell_type": "markdown",
   "metadata": {},
   "source": [
    "##Plotting\n",
    "The simplest form of plotting is plot(), which draws a line, or set of markers, through the given data set. So lets get started with a basic line graph"
   ]
  },
  {
   "cell_type": "code",
   "execution_count": null,
   "metadata": {
    "collapsed": false
   },
   "outputs": [],
   "source": [
    "points = np.random.random(10)*10\n",
    "plt.plot(points)\n",
    "plt.show()"
   ]
  },
  {
   "cell_type": "markdown",
   "metadata": {},
   "source": [
    "<div style='background:#B1E0A8; padding:10px 10px 10px 10px;'>\n",
    "<h2>Challenge</h2>\n",
    "<ol>\n",
    "<li>Use the knowledge you gained yesterday to write a `for` loop which creates a list of temperatures in Celsius and converts them to Farinheight. You should end up with two lists.</li>\n",
    "<li> Then plot these lists against each other to see the relationship between them.</li>\n",
    "</div>"
   ]
  },
  {
   "cell_type": "code",
   "execution_count": null,
   "metadata": {
    "collapsed": false
   },
   "outputs": [],
   "source": [
    "F = range(-50, 100)\n",
    "C = []\n",
    "for i in F:\n",
    "    temp = (i - 32.0)*(5.0/9.0)\n",
    "    C.append(temp)\n",
    "print C\n",
    "\n",
    "fig6 = plt.figure()\n",
    "plt.plot(F,C, 'o')\n",
    "plt.show()"
   ]
  },
  {
   "cell_type": "markdown",
   "metadata": {},
   "source": [
    "Now lets have a look at bar graphs, they are somewhat more involved. We need to define the number of bars, how wide they are and the data itself, obviously.\n",
    "The indices can be calculated using the length of our data set, the width we can arbitrarily define and we will use the points from the line graph."
   ]
  },
  {
   "cell_type": "code",
   "execution_count": null,
   "metadata": {
    "collapsed": false
   },
   "outputs": [],
   "source": [
    "ind = np.arange(len(points))\n",
    "width = 0.5\n",
    "plt.bar(ind, points, width)\n",
    "plt.show()"
   ]
  },
  {
   "cell_type": "markdown",
   "metadata": {},
   "source": [
    "We can plot two bars for comparison by adding the width to the indicies."
   ]
  },
  {
   "cell_type": "code",
   "execution_count": null,
   "metadata": {
    "collapsed": false
   },
   "outputs": [],
   "source": [
    "points_2 = np.random.random(10)*10\n",
    "ind = np.arange(len(points))\n",
    "width = 0.5\n",
    "plt.bar(ind, points, width)\n",
    "plt.bar(ind+width, points_2, width, color = 'r')\n",
    "plt.show()"
   ]
  },
  {
   "cell_type": "markdown",
   "metadata": {},
   "source": [
    "### Over-plotting and labels\n",
    "\n",
    "Sometimes, you might actually want to plot multiple objects. Here, over-plotting is quite simple.\n",
    "\n",
    "But it is important to label your axes and your differing data series. "
   ]
  },
  {
   "cell_type": "code",
   "execution_count": null,
   "metadata": {
    "collapsed": true
   },
   "outputs": [],
   "source": [
    "plt.bar(ind,points, width, label='bar')\n",
    "plt.plot(points, label='line')\n",
    "plt.title('Bars and Lines')\n",
    "plt.xlabel('Positions')\n",
    "plt.ylabel('Counts')\n",
    "plt.legend()\n",
    "plt.show()"
   ]
  },
  {
   "cell_type": "markdown",
   "metadata": {
    "collapsed": true
   },
   "source": [
    "### Plotting some lines\n",
    "\n",
    "Now lets plot some maths and mess around with the lines. Everyone loves a sine and cosine wave."
   ]
  },
  {
   "cell_type": "code",
   "execution_count": null,
   "metadata": {
    "collapsed": true
   },
   "outputs": [],
   "source": [
    "time = np.linspace(0,100,1000)\n",
    "plt.plot(time,np.cos(time),'g')\n",
    "plt.plot(time,np.sin(time),'b')\n",
    "plt.show()"
   ]
  },
  {
   "cell_type": "markdown",
   "metadata": {},
   "source": [
    "For each line, you can specify line colour, width and line style. We can make it ugly for example!"
   ]
  },
  {
   "cell_type": "code",
   "execution_count": null,
   "metadata": {
    "collapsed": false
   },
   "outputs": [],
   "source": [
    "plt.plot(time,np.cos(time),'.-y')\n",
    "plt.show()"
   ]
  },
  {
   "cell_type": "markdown",
   "metadata": {},
   "source": [
    "## imread and imshow\n",
    "\n",
    "Reading in an image is an essential part of our craft. Matplotlib out of the box only supports PNG files.\n",
    "But we tend to deal with FITS files which we will read in tomorrow. For now, there is a PNG file in the local directory."
   ]
  },
  {
   "cell_type": "code",
   "execution_count": null,
   "metadata": {
    "collapsed": false
   },
   "outputs": [],
   "source": [
    "!ls"
   ]
  },
  {
   "cell_type": "code",
   "execution_count": null,
   "metadata": {
    "collapsed": false
   },
   "outputs": [],
   "source": [
    "data = plt.imread('data.png')"
   ]
  },
  {
   "cell_type": "markdown",
   "metadata": {},
   "source": [
    "So the file has been read and stored as a variable. The output is a NumPy 2D array."
   ]
  },
  {
   "cell_type": "code",
   "execution_count": null,
   "metadata": {
    "collapsed": false
   },
   "outputs": [],
   "source": [
    "data.shape"
   ]
  },
  {
   "cell_type": "markdown",
   "metadata": {},
   "source": [
    "\n",
    "Now let us display this image.\n",
    "\n",
    "For this, imshow is used. It is a function within PyPlot but was designed with photography in mind."
   ]
  },
  {
   "cell_type": "code",
   "execution_count": null,
   "metadata": {
    "collapsed": false
   },
   "outputs": [],
   "source": [
    "plt.imshow(data)\n",
    "plt.show()"
   ]
  },
  {
   "cell_type": "markdown",
   "metadata": {},
   "source": [
    "\n",
    "Oh god. What is that? What is with that color?"
   ]
  },
  {
   "cell_type": "code",
   "execution_count": null,
   "metadata": {
    "collapsed": false
   },
   "outputs": [],
   "source": [
    "plt.imshow(data, cmap='gray')\n",
    "plt.show()"
   ]
  },
  {
   "cell_type": "markdown",
   "metadata": {},
   "source": [
    "So much clearer. This is the solar surface. A decaying small active region taken with the Swedish Solar Telescope several years back.\n",
    "\n",
    "What you might not know is that the image is upside down."
   ]
  },
  {
   "cell_type": "code",
   "execution_count": null,
   "metadata": {
    "collapsed": true
   },
   "outputs": [],
   "source": [
    "plt.imshow(data, cmap='gray', origin='lower')\n",
    "plt.show()"
   ]
  },
  {
   "cell_type": "markdown",
   "metadata": {},
   "source": [
    "\n",
    "The axes are in pixel co-ordinates. We can change that. \n",
    "The imshow command takes an extent keyword argument that scales the axis to the specified range. "
   ]
  },
  {
   "cell_type": "code",
   "execution_count": null,
   "metadata": {
    "collapsed": true
   },
   "outputs": [],
   "source": [
    "extent = [0,1,0,1]"
   ]
  },
  {
   "cell_type": "code",
   "execution_count": null,
   "metadata": {
    "collapsed": false
   },
   "outputs": [],
   "source": [
    "plt.imshow(data, cmap='gray', origin='lower', extent = extent)\n",
    "plt.show()"
   ]
  },
  {
   "cell_type": "markdown",
   "metadata": {},
   "source": [
    "\n",
    "That is not quite arcsecs however."
   ]
  },
  {
   "cell_type": "code",
   "execution_count": null,
   "metadata": {
    "collapsed": true
   },
   "outputs": [],
   "source": [
    "extent = [0,0.059*data.shape[0],0,0.059*data.shape[1]]"
   ]
  },
  {
   "cell_type": "code",
   "execution_count": null,
   "metadata": {
    "collapsed": true
   },
   "outputs": [],
   "source": [
    "plt.imshow(data, cmap='gray', origin='lower', extent = extent)\n",
    "plt.show()"
   ]
  },
  {
   "cell_type": "markdown",
   "metadata": {},
   "source": [
    "<div style='background:#B1E0A8; padding:10px 10px 10px 10px;'>\n",
    "<h2>Challenges</h2>\n",
    "<ol>\n",
    "<li> Recreate this plot with a colourmap of your choice. Title the axes. Add a colourbar. </li>\n",
    "<li> Then save out this figure to your local directory. </li>\n",
    "</div>"
   ]
  },
  {
   "cell_type": "markdown",
   "metadata": {},
   "source": [
    "## Solution 1"
   ]
  },
  {
   "cell_type": "code",
   "execution_count": null,
   "metadata": {
    "collapsed": false
   },
   "outputs": [],
   "source": [
    "plt.figure()\n",
    "plt.imshow(data, cmap='cubehelix', origin='lower', extent=extent)\n",
    "plt.title('The Photosphere')\n",
    "plt.xlabel('Distance (Arcsec)')\n",
    "plt.ylabel('Distance (Arcsec)')\n",
    "plt.colorbar()\n",
    "plt.show()"
   ]
  },
  {
   "cell_type": "markdown",
   "metadata": {},
   "source": [
    "## Solution 2"
   ]
  },
  {
   "cell_type": "code",
   "execution_count": null,
   "metadata": {
    "collapsed": true
   },
   "outputs": [],
   "source": [
    "# Either save from the figure or commandline.\n",
    "plt.savefig('the_sun.pdf',dpi=300)"
   ]
  },
  {
   "cell_type": "markdown",
   "metadata": {},
   "source": [
    "## Pretty Plot\n",
    "\n",
    "Just wanted to show you what was possible if you have some time using Python, Matplotlib and SunPy. We have a Python script locally, that I will run to show you."
   ]
  },
  {
   "cell_type": "code",
   "execution_count": null,
   "metadata": {
    "collapsed": false
   },
   "outputs": [],
   "source": [
    "!ls"
   ]
  },
  {
   "cell_type": "code",
   "execution_count": null,
   "metadata": {
    "collapsed": false
   },
   "outputs": [],
   "source": [
    "!python2 aia_all.py"
   ]
  },
  {
   "cell_type": "markdown",
   "metadata": {},
   "source": [
    "\n",
    "## Animations\n",
    "\n",
    "Matplotlib supports animation of all of its figure types. We will show you an example here.\n",
    "\n",
    "First things first, we need to import Animation."
   ]
  },
  {
   "cell_type": "code",
   "execution_count": null,
   "metadata": {
    "collapsed": true
   },
   "outputs": [],
   "source": [
    "import matplotlib.animation as an"
   ]
  },
  {
   "cell_type": "markdown",
   "metadata": {},
   "source": [
    "We will need a fig and an axes instance for the following."
   ]
  },
  {
   "cell_type": "code",
   "execution_count": null,
   "metadata": {
    "collapsed": true
   },
   "outputs": [],
   "source": [
    "fig, ax = plt.subplots()"
   ]
  },
  {
   "cell_type": "markdown",
   "metadata": {},
   "source": [
    "Then to create some starting data and the inital line plot."
   ]
  },
  {
   "cell_type": "code",
   "execution_count": null,
   "metadata": {
    "collapsed": true
   },
   "outputs": [],
   "source": [
    "x = np.arange(0,2*np.pi, 0.01)\n",
    "line, = ax.plot(x, np.sin(x))"
   ]
  },
  {
   "cell_type": "markdown",
   "metadata": {},
   "source": [
    "So animation plotting is based off creating a function. So in this case, we are animating a line plot."
   ]
  },
  {
   "cell_type": "code",
   "execution_count": null,
   "metadata": {
    "collapsed": true
   },
   "outputs": [],
   "source": [
    "def animate(i):\n",
    "    line.set_ydata(np.sin(x+i/10.0)) # update the data\n",
    "    return line,"
   ]
  },
  {
   "cell_type": "code",
   "execution_count": null,
   "metadata": {
    "collapsed": false
   },
   "outputs": [],
   "source": [
    "ani = an.FuncAnimation(fig, animate, np.arange(1,200), interval=25)\n",
    "plt.show()"
   ]
  },
  {
   "cell_type": "markdown",
   "metadata": {},
   "source": [
    "\n",
    "This works! Animating a 2D image is similar. Except in the animate function, you will set both x and y data."
   ]
  },
  {
   "cell_type": "markdown",
   "metadata": {},
   "source": [
    "<div style='background:#B1E0A8; padding:10px 10px 10px 10px;'>\n",
    "<h2>Challenges</h2>\n",
    "<ol>\n",
    "<li> Use a Monte Carlo method to estimate the value of Pi. </li>\n",
    "<li> Create an animation to show each point created for the Monte Carlo method , with a separate colour for points landing in the circle and those landing outside it. </li>\n",
    "</div>\n",
    "\n",
    "Hint: You can create a circle by plotting the line `1 = x**2 + y**2`."
   ]
  },
  {
   "cell_type": "code",
   "execution_count": null,
   "metadata": {
    "collapsed": false
   },
   "outputs": [],
   "source": [
    "fig, ax = plt.subplots()\n",
    "x2 = []\n",
    "y2 = []\n",
    "\n",
    "scatter, = ax.plot(x2,y2, 'o')\n",
    "\n",
    "gt1 = []\n",
    "lt1 = []\n",
    "def point_in_box(i):\n",
    "    ytemp = np.random.rand(1)\n",
    "    xtemp = np.random.rand(1)\n",
    "    y2.append(ytemp)\n",
    "    x2.append(xtemp)\n",
    "    scatter.set_xdata(x2)\n",
    "    scatter.set_ydata(y2)\n",
    "    r = np.sqrt(xtemp**2+ytemp**2)\n",
    "    if r <= 1:\n",
    "        lt1.append(r)\n",
    "    else:\n",
    "        gt1.append(r)\n",
    "    plt.title(\"pi = {0}\".format((float(len(gt1))/float(len(lt1)))*4.0))\n",
    "    return scatter,"
   ]
  },
  {
   "cell_type": "code",
   "execution_count": null,
   "metadata": {
    "collapsed": false
   },
   "outputs": [],
   "source": [
    "x = np.arange(0,1,0.0001)\n",
    "y = [np.sqrt(1 - var**2) for var in x]"
   ]
  },
  {
   "cell_type": "code",
   "execution_count": null,
   "metadata": {
    "collapsed": false
   },
   "outputs": [],
   "source": [
    "ani = an.FuncAnimation(fig, point_in_box, np.arange(1,100), interval = 25)\n",
    "plt.plot(x,y)\n",
    "plt.show()"
   ]
  },
  {
   "cell_type": "markdown",
   "metadata": {},
   "source": [
    "There is a further IPython Notebook talking about this in more detail."
   ]
  },
  {
   "cell_type": "code",
   "execution_count": null,
   "metadata": {
    "collapsed": true
   },
   "outputs": [],
   "source": []
  }
 ],
 "metadata": {
  "kernelspec": {
   "display_name": "Python 2",
   "language": "python",
   "name": "python2"
  },
  "language_info": {
   "codemirror_mode": {
    "name": "ipython",
    "version": 2
   },
   "file_extension": ".py",
   "mimetype": "text/x-python",
   "name": "python",
   "nbconvert_exporter": "python",
   "pygments_lexer": "ipython2",
   "version": "2.7.9"
  }
 },
 "nbformat": 4,
 "nbformat_minor": 0
}
