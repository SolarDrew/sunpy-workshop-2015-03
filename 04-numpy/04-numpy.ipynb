{
 "cells": [
  {
   "cell_type": "markdown",
   "metadata": {},
   "source": [
    "# NumPy"
   ]
  },
  {
   "cell_type": "markdown",
   "metadata": {},
   "source": [
    "NumPy is the core of any Python script that requires any kind of numerical computation.\n",
    "It provides a N-dimensional object that is missing in the core Python language.\n",
    "But it also contains many helper functions that are required for basic data analysis.\n",
    "\n",
    "In this session we will cover:\n",
    "\n",
    "* importing numpy\n",
    "* Creating numpy arrays\n",
    "* Indexing and Slicing arrays\n",
    "* Broadcasting\n",
    "* NumPy functions\n",
    "* Basic text IO"
   ]
  },
  {
   "cell_type": "markdown",
   "metadata": {},
   "source": [
    "So let us begin, import numpy as follows."
   ]
  },
  {
   "cell_type": "code",
   "execution_count": null,
   "metadata": {
    "collapsed": true
   },
   "outputs": [],
   "source": []
  },
  {
   "cell_type": "markdown",
   "metadata": {},
   "source": [
    "This imports the entire NumPy library under the namespace of np. You should've covered this in the previous session."
   ]
  },
  {
   "cell_type": "code",
   "execution_count": null,
   "metadata": {
    "collapsed": false,
    "scrolled": true
   },
   "outputs": [],
   "source": []
  },
  {
   "cell_type": "markdown",
   "metadata": {},
   "source": [
    "This is important to see. It is cluttered. Almost every NumPy function can be seen from that tab completion. Name-spacing is done differently for each module as we will see at the end of this session.\n",
    "But importing NumPy this way stops you not knowing where a function is being called from!"
   ]
  },
  {
   "cell_type": "markdown",
   "metadata": {},
   "source": [
    "## Arrays"
   ]
  },
  {
   "cell_type": "markdown",
   "metadata": {},
   "source": [
    "So arrays are the core feature of NumPy.\n",
    "\n",
    "We can create one like so,"
   ]
  },
  {
   "cell_type": "code",
   "execution_count": null,
   "metadata": {
    "collapsed": false
   },
   "outputs": [],
   "source": []
  },
  {
   "cell_type": "markdown",
   "metadata": {},
   "source": [
    "It is important to note that for this function to work, you must have the argument be a single object. So here, you will wrap the whole input in either a list  **[]** or a tuple **()**.\n",
    "\n",
    "A one number array is pretty useless here, so we can create a larger array like so,"
   ]
  },
  {
   "cell_type": "code",
   "execution_count": null,
   "metadata": {
    "collapsed": false
   },
   "outputs": [],
   "source": []
  },
  {
   "cell_type": "markdown",
   "metadata": {},
   "source": [
    "These are very basic arrays, the first one is 1 by 1 and the second is 2 by 3. \n",
    "Numpy arrays tend to be **n** rows and **m**  columns for 2D arrays.\n",
    "This is due to the fact that Python is built on C which is row major. "
   ]
  },
  {
   "cell_type": "markdown",
   "metadata": {},
   "source": [
    "I hope you never have to do that! There are some basic properties of arrays that are important to cover.\n",
    "\n",
    "Each array has a series of attributes that describes the fundamental properties of each array."
   ]
  },
  {
   "cell_type": "code",
   "execution_count": null,
   "metadata": {
    "collapsed": true
   },
   "outputs": [],
   "source": []
  },
  {
   "cell_type": "markdown",
   "metadata": {},
   "source": [
    "This is the dimensionality of the array:"
   ]
  },
  {
   "cell_type": "code",
   "execution_count": null,
   "metadata": {
    "collapsed": false
   },
   "outputs": [],
   "source": []
  },
  {
   "cell_type": "markdown",
   "metadata": {},
   "source": [
    "This is a tuple of integers indicating the size of the array in each dimension. For a matrix with n rows and m columns, shape will be (n,m)."
   ]
  },
  {
   "cell_type": "code",
   "execution_count": null,
   "metadata": {
    "collapsed": false
   },
   "outputs": [],
   "source": []
  },
  {
   "cell_type": "markdown",
   "metadata": {},
   "source": [
    "This is the total number of elements of the array."
   ]
  },
  {
   "cell_type": "code",
   "execution_count": null,
   "metadata": {
    "collapsed": false
   },
   "outputs": [],
   "source": []
  },
  {
   "cell_type": "markdown",
   "metadata": {},
   "source": [
    "This is the object describing the type of the elements in the array, for example, integer or float."
   ]
  },
  {
   "cell_type": "code",
   "execution_count": null,
   "metadata": {
    "collapsed": false
   },
   "outputs": [],
   "source": []
  },
  {
   "cell_type": "markdown",
   "metadata": {},
   "source": [
    "Further more, you can create arrays filled with either zeroes or ones if you require. This time you specify the shape i.e the dimensions of the array as input."
   ]
  },
  {
   "cell_type": "code",
   "execution_count": null,
   "metadata": {
    "collapsed": false
   },
   "outputs": [],
   "source": []
  },
  {
   "cell_type": "markdown",
   "metadata": {},
   "source": [
    "So now we can create really strange arrays, it is time to get that information back out. \n",
    "To do this, we will now index the array and it is sometimes referred to as slicing.\n",
    "\n",
    "Python (like C) is row-major, so when we index an array, in the 2D we will end up the row first.\n",
    "\n",
    "Some basic examples,"
   ]
  },
  {
   "cell_type": "code",
   "execution_count": null,
   "metadata": {
    "collapsed": false
   },
   "outputs": [],
   "source": []
  },
  {
   "cell_type": "code",
   "execution_count": null,
   "metadata": {
    "collapsed": false
   },
   "outputs": [],
   "source": []
  },
  {
   "cell_type": "markdown",
   "metadata": {},
   "source": [
    "We can reassign variables inside these arrays, like you can do with lists. "
   ]
  },
  {
   "cell_type": "code",
   "execution_count": null,
   "metadata": {
    "collapsed": false
   },
   "outputs": [],
   "source": []
  },
  {
   "cell_type": "markdown",
   "metadata": {},
   "source": [
    "See what has happened? It has reassigned the entire row to be the same number."
   ]
  },
  {
   "cell_type": "code",
   "execution_count": null,
   "metadata": {
    "collapsed": false
   },
   "outputs": [],
   "source": []
  },
  {
   "cell_type": "markdown",
   "metadata": {},
   "source": [
    "Here, we have now just changed the first number in the first row. You have to index the specific value you require at times.\n",
    "\n",
    "There are other forms of indexing.\n",
    "This example will use a NumPy function called arange that is used to create a range of numbers.\n",
    "You specify a start, stop and step size. \n",
    "Here we will create 0 to 99 in steps of one."
   ]
  },
  {
   "cell_type": "code",
   "execution_count": null,
   "metadata": {
    "collapsed": false
   },
   "outputs": [],
   "source": []
  },
  {
   "cell_type": "markdown",
   "metadata": {},
   "source": [
    "But what if for some reason you want the even elements?"
   ]
  },
  {
   "cell_type": "code",
   "execution_count": null,
   "metadata": {
    "collapsed": false
   },
   "outputs": [],
   "source": []
  },
  {
   "cell_type": "markdown",
   "metadata": {},
   "source": [
    "This allows some creative slicing opportunities!"
   ]
  },
  {
   "cell_type": "code",
   "execution_count": null,
   "metadata": {
    "collapsed": false
   },
   "outputs": [],
   "source": []
  },
  {
   "cell_type": "markdown",
   "metadata": {},
   "source": [
    "But wait! This is still 1D slicing. This won't help if you're working on a 3D data set! \n",
    "\n",
    "So let us skip 3D and go for 4D data.\n",
    "Since you've not covered plotting or any fancy file input, I can't show you some of the lovely 4D observational data I have (also, the files are huge).\n",
    "\n",
    "So we will create a fake 4D array with this axis layout, [x, y, wave, time].\n",
    "To do this, we use another feature of NumPy, the random module, for all your random number needs.\n",
    "The name is important to note, the random functions in NumPy do not reside under the NumPy namespace directly. But under the numpy.random namespace. "
   ]
  },
  {
   "cell_type": "code",
   "execution_count": null,
   "metadata": {
    "collapsed": false
   },
   "outputs": [],
   "source": []
  },
  {
   "cell_type": "markdown",
   "metadata": {},
   "source": [
    "So we have our *data*, I want to see the image at the first time step.\n",
    "\n",
    "*There won't be a plot since it will be just static.*"
   ]
  },
  {
   "cell_type": "code",
   "execution_count": null,
   "metadata": {
    "collapsed": false
   },
   "outputs": [],
   "source": []
  },
  {
   "cell_type": "markdown",
   "metadata": {},
   "source": [
    "The colon symbol is the same in IDL as the * symbol for arrays. It returns all the values for that index.\n",
    "If you want the values from several indices, there is another syntax method."
   ]
  },
  {
   "cell_type": "code",
   "execution_count": null,
   "metadata": {
    "collapsed": false
   },
   "outputs": [],
   "source": []
  },
  {
   "cell_type": "markdown",
   "metadata": {},
   "source": [
    "So say we want a line profile from this data set, we require a specific pixel co-ordinate but across all wavelengths."
   ]
  },
  {
   "cell_type": "code",
   "execution_count": null,
   "metadata": {
    "collapsed": false
   },
   "outputs": [],
   "source": []
  },
  {
   "cell_type": "markdown",
   "metadata": {},
   "source": [
    "If you want a spectrum image, you want all of time!"
   ]
  },
  {
   "cell_type": "code",
   "execution_count": null,
   "metadata": {
    "collapsed": false
   },
   "outputs": [],
   "source": []
  },
  {
   "cell_type": "markdown",
   "metadata": {},
   "source": [
    "Or,"
   ]
  },
  {
   "cell_type": "code",
   "execution_count": null,
   "metadata": {
    "collapsed": false
   },
   "outputs": [],
   "source": []
  },
  {
   "cell_type": "markdown",
   "metadata": {},
   "source": [
    "I forgot to mention taking a small area of data!"
   ]
  },
  {
   "cell_type": "code",
   "execution_count": null,
   "metadata": {
    "collapsed": false
   },
   "outputs": [],
   "source": []
  },
  {
   "cell_type": "markdown",
   "metadata": {},
   "source": [
    "Here, we can use the colon symbol to specify a start and end range. \n",
    "So you could in the future, create a movie of your data set for this wavelength.\n",
    "\n",
    "That is basically all for slicing.\n",
    "However, we aren't finished yet with arrays!"
   ]
  },
  {
   "cell_type": "markdown",
   "metadata": {},
   "source": [
    "<div style='background:#B1E0A8; padding:10px 10px 10px 10px;'>\n",
    "<h2>Challenges</h2>\n",
    "<p>\n",
    "<ol>\n",
    "<li> Create a 3D array with size (150, 150) of nothing but zeroes. </li>\n",
    "<li> Fill it the number 12. </li>\n",
    "</p>\n",
    "</div>"
   ]
  },
  {
   "cell_type": "markdown",
   "metadata": {},
   "source": [
    "## Solution 1"
   ]
  },
  {
   "cell_type": "code",
   "execution_count": null,
   "metadata": {
    "collapsed": false
   },
   "outputs": [],
   "source": []
  },
  {
   "cell_type": "markdown",
   "metadata": {},
   "source": [
    "## Solution 2"
   ]
  },
  {
   "cell_type": "code",
   "execution_count": null,
   "metadata": {
    "collapsed": true
   },
   "outputs": [],
   "source": []
  },
  {
   "cell_type": "markdown",
   "metadata": {},
   "source": [
    "## Broadcasting"
   ]
  },
  {
   "cell_type": "markdown",
   "metadata": {},
   "source": [
    "This word hides alot of the heavy lifting that NumPy does when it comes to array operations. Python is so very slow. Oh so slow. However, the C it is built upon is so quick. \n",
    "\n",
    "The goal of NumPy array development was that where possible, any numerical operation on an array would be done using the C API instead of Python.\n",
    "\n",
    "So to illustrate this, we do two different array multiplications."
   ]
  },
  {
   "cell_type": "code",
   "execution_count": null,
   "metadata": {
    "collapsed": false
   },
   "outputs": [],
   "source": []
  },
  {
   "cell_type": "markdown",
   "metadata": {},
   "source": [
    "So, it simply does element by element multiplication. Nice and simples.\n",
    "\n",
    "Here, we have an array times a constant."
   ]
  },
  {
   "cell_type": "code",
   "execution_count": null,
   "metadata": {
    "collapsed": false
   },
   "outputs": [],
   "source": []
  },
  {
   "cell_type": "markdown",
   "metadata": {},
   "source": [
    "Once again, it simply multiplies each element by the constant. However that is not what NumPy actually has done. It **\"stretches\"** the constant out, so that it appears to be an array with the same shape.\n",
    "This enables the operation to be done in C and not in Python.\n",
    "\n",
    "The interesting fact is that the second operation is faster than the first operation. One small caveat, it is slower if the array size is small."
   ]
  },
  {
   "cell_type": "code",
   "execution_count": null,
   "metadata": {
    "collapsed": false
   },
   "outputs": [],
   "source": []
  },
  {
   "cell_type": "code",
   "execution_count": null,
   "metadata": {
    "collapsed": false
   },
   "outputs": [],
   "source": []
  },
  {
   "cell_type": "markdown",
   "metadata": {},
   "source": [
    "So, NumPy allows you to add, multiply, subtract and divide arrays of different shapes as long as those arrays have the same number of columns. This means that the smaller array will be broadcast over the larger array resulting in an output.\n",
    "\n",
    "For example, here we will add a 1 by 3 array and a 1 by 1 array."
   ]
  },
  {
   "cell_type": "code",
   "execution_count": null,
   "metadata": {
    "collapsed": false
   },
   "outputs": [],
   "source": []
  },
  {
   "cell_type": "markdown",
   "metadata": {},
   "source": [
    "Broadcasting has simply created a 1 by 3 array of 1s, allowing the summation to work.\n",
    "It will break like so,"
   ]
  },
  {
   "cell_type": "code",
   "execution_count": null,
   "metadata": {
    "collapsed": false
   },
   "outputs": [],
   "source": []
  },
  {
   "cell_type": "markdown",
   "metadata": {},
   "source": [
    "If you stare at the error message, it simply tells you that the shapes are wrong. It is impossible to broadcast 2 values over 3 elements.\n",
    "\n",
    "Broadcasting does allow the outer product to be calculated of two arrays."
   ]
  },
  {
   "cell_type": "code",
   "execution_count": null,
   "metadata": {
    "collapsed": false
   },
   "outputs": [],
   "source": []
  },
  {
   "cell_type": "code",
   "execution_count": null,
   "metadata": {
    "collapsed": false,
    "scrolled": false
   },
   "outputs": [],
   "source": []
  },
  {
   "cell_type": "code",
   "execution_count": null,
   "metadata": {
    "collapsed": false
   },
   "outputs": [],
   "source": []
  },
  {
   "cell_type": "markdown",
   "metadata": {},
   "source": [
    "Here, a new NumPy function has been introduced. NumPy arrays allow a new axis to be added to in order to change the shape of any array. Each array was and still is 1D. However the first array was then turned into a column vector and then added to a row vector. The new array is 4 by 3. This is a outer product. You can do other outer operations like this.\n",
    "\n",
    "This is a simple overview of broadcasting, if you want to see the exact rules used, the link is http://docs.scipy.org/doc/numpy/reference/ufuncs.html#broadcasting\n",
    "\n",
    "Now on to some functions!"
   ]
  },
  {
   "cell_type": "markdown",
   "metadata": {},
   "source": [
    "## Functions"
   ]
  },
  {
   "cell_type": "markdown",
   "metadata": {},
   "source": [
    "So, arrays are all fancy but that isn't all that NumPy can do. "
   ]
  },
  {
   "cell_type": "code",
   "execution_count": null,
   "metadata": {
    "collapsed": false,
    "scrolled": true
   },
   "outputs": [],
   "source": []
  },
  {
   "cell_type": "markdown",
   "metadata": {},
   "source": [
    "So, here we have used the sin function within NumPy and used as an argument, the entire `fake_solar_data array`. Unlike the core math module in Python, you can enter entire lists or arrays into NumPy functions.\n",
    "\n",
    "NumPy has a large selection of functions, from the traditional trigonometric functions to min/max to interpolation. \n",
    "\n",
    "The online documentation is pretty extensive and is the best place to find the function you are after. Found here: http://docs.scipy.org/doc/numpy/reference/ It showcases the core of NumPy.\n",
    "\n",
    "On a side-note, within IPython, to raise the help page, type the function and then have a question mark at the end. Normally you will have to Google the function to bring up its documentation."
   ]
  },
  {
   "cell_type": "code",
   "execution_count": null,
   "metadata": {
    "collapsed": false
   },
   "outputs": [],
   "source": []
  },
  {
   "cell_type": "markdown",
   "metadata": {
    "collapsed": true
   },
   "source": [
    "Time for a segway function!\n",
    "The dot function."
   ]
  },
  {
   "cell_type": "code",
   "execution_count": null,
   "metadata": {
    "collapsed": true
   },
   "outputs": [],
   "source": []
  },
  {
   "cell_type": "code",
   "execution_count": null,
   "metadata": {
    "collapsed": false
   },
   "outputs": [],
   "source": []
  },
  {
   "cell_type": "markdown",
   "metadata": {},
   "source": [
    "<div style='background:#B1E0A8; padding:10px 10px 10px 10px;'>\n",
    "<h2>Challenges</h2>\n",
    "<p>\n",
    "<ol> \n",
    "<li> Find the maximum value in the fake_solar_data array for the first timestep and wavelength. </li>\n",
    "<li> Now index the array to find that maximum value. </li>\n",
    "</p>\n",
    "</div>"
   ]
  },
  {
   "cell_type": "markdown",
   "metadata": {},
   "source": [
    "## Solution 1"
   ]
  },
  {
   "cell_type": "code",
   "execution_count": null,
   "metadata": {
    "collapsed": false
   },
   "outputs": [],
   "source": []
  },
  {
   "cell_type": "markdown",
   "metadata": {},
   "source": [
    "## Solution 2"
   ]
  },
  {
   "cell_type": "code",
   "execution_count": null,
   "metadata": {
    "collapsed": false
   },
   "outputs": [],
   "source": []
  },
  {
   "cell_type": "markdown",
   "metadata": {},
   "source": [
    "# I/O"
   ]
  },
  {
   "cell_type": "code",
   "execution_count": null,
   "metadata": {
    "collapsed": true
   },
   "outputs": [],
   "source": []
  },
  {
   "cell_type": "code",
   "execution_count": null,
   "metadata": {
    "collapsed": false
   },
   "outputs": [],
   "source": []
  },
  {
   "cell_type": "markdown",
   "metadata": {},
   "source": [
    "Input/Output is a overlooked topic. You will on occasion have have to deal with text files or comma-separated files (CSV). NumPy offers a convenient method to opening and saving out these kind of files.\n",
    "\n",
    "Let us deal with saving first!"
   ]
  },
  {
   "cell_type": "code",
   "execution_count": null,
   "metadata": {
    "collapsed": false
   },
   "outputs": [],
   "source": []
  },
  {
   "cell_type": "code",
   "execution_count": null,
   "metadata": {
    "collapsed": false
   },
   "outputs": [],
   "source": []
  },
  {
   "cell_type": "code",
   "execution_count": null,
   "metadata": {
    "collapsed": false
   },
   "outputs": [],
   "source": []
  },
  {
   "cell_type": "code",
   "execution_count": null,
   "metadata": {
    "collapsed": false
   },
   "outputs": [],
   "source": []
  },
  {
   "cell_type": "markdown",
   "metadata": {},
   "source": [
    "So what has happened here? This CSV file is complex. Typically if you plan to use NumPy loadtxt, you have simple data files. \n",
    "\n",
    "This CSV file has a header row, some of the entries aren't even numbers. Numpy hates this."
   ]
  },
  {
   "cell_type": "code",
   "execution_count": null,
   "metadata": {
    "collapsed": false
   },
   "outputs": [],
   "source": []
  },
  {
   "cell_type": "markdown",
   "metadata": {},
   "source": [
    "So this is slightly better. But it really isn't want you want. \n",
    "Let us try another function!"
   ]
  },
  {
   "cell_type": "code",
   "execution_count": null,
   "metadata": {
    "collapsed": false
   },
   "outputs": [],
   "source": []
  },
  {
   "cell_type": "markdown",
   "metadata": {},
   "source": [
    "That is better. While we now lack the header, we can see each entry and it seems reasonably clear what each column is.\n",
    "\n",
    "This kind of data shifting would better be using a different library. But that is for another time."
   ]
  },
  {
   "cell_type": "markdown",
   "metadata": {
    "collapsed": true
   },
   "source": [
    "# SciPy"
   ]
  },
  {
   "cell_type": "markdown",
   "metadata": {},
   "source": [
    "It is difficult to talk about NumPy without mentioning SciPy. \n",
    "\n",
    "SciPy has alot of functions that are nearly identical to ones in NumPy, for example the FFT routines in NumPy also exist in SciPy. So which do you use?"
   ]
  },
  {
   "cell_type": "markdown",
   "metadata": {},
   "source": [
    "## YOU USE SCIPY\n",
    "\n",
    "The reason for this is that NumPy contains pieces of code for backwards compatibility (spits). So as a result it has routines that are not as well developed as SciPy.\n",
    "\n",
    "Before I go too far, to show an example of this, the SciPy IO module is more advanced than NumPys. It has the ability to read in IDL save files (but not write them due to license issues)."
   ]
  },
  {
   "cell_type": "code",
   "execution_count": null,
   "metadata": {
    "collapsed": true
   },
   "outputs": [],
   "source": []
  },
  {
   "cell_type": "markdown",
   "metadata": {},
   "source": [
    "There is an IDL savefile called \"area_thresh.sav\" in this directory!"
   ]
  },
  {
   "cell_type": "markdown",
   "metadata": {},
   "source": [
    "<div style='background:#B1E0A8; padding:10px 10px 10px 10px;'>\n",
    "<h2>Challenges</h2>\n",
    "<ol>\n",
    "<li> With this IDL savefile, extract the area and intensity data series it contains. </li>\n",
    "<li> Then save out these arrays as a CSV file. </li>\n",
    "</div>"
   ]
  },
  {
   "cell_type": "markdown",
   "metadata": {},
   "source": [
    "## Solution 1"
   ]
  },
  {
   "cell_type": "code",
   "execution_count": null,
   "metadata": {
    "collapsed": true
   },
   "outputs": [],
   "source": []
  },
  {
   "cell_type": "markdown",
   "metadata": {},
   "source": [
    "## Solution 2"
   ]
  },
  {
   "cell_type": "code",
   "execution_count": null,
   "metadata": {
    "collapsed": false
   },
   "outputs": [],
   "source": []
  }
 ],
 "metadata": {
  "kernelspec": {
   "display_name": "Python 2",
   "language": "python",
   "name": "python2"
  },
  "language_info": {
   "codemirror_mode": {
    "name": "ipython",
    "version": 2
   },
   "file_extension": ".py",
   "mimetype": "text/x-python",
   "name": "python",
   "nbconvert_exporter": "python",
   "pygments_lexer": "ipython2",
   "version": "2.7.9"
  }
 },
 "nbformat": 4,
 "nbformat_minor": 0
}
